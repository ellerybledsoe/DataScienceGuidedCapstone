{
  "nbformat": 4,
  "nbformat_minor": 0,
  "metadata": {
    "colab": {
      "name": "Austin Restaurant Inspections_Modeling",
      "provenance": [],
      "collapsed_sections": [],
      "authorship_tag": "ABX9TyPeCD6EvPevxRJgkIry3yw+",
      "include_colab_link": true
    },
    "kernelspec": {
      "name": "python3",
      "display_name": "Python 3"
    },
    "language_info": {
      "name": "python"
    }
  },
  "cells": [
    {
      "cell_type": "markdown",
      "metadata": {
        "id": "view-in-github",
        "colab_type": "text"
      },
      "source": [
        "<a href=\"https://colab.research.google.com/github/ellerybledsoe/DataScienceGuidedCapstone/blob/master/Austin_Restaurant_Inspections_Modeling.ipynb\" target=\"_parent\"><img src=\"https://colab.research.google.com/assets/colab-badge.svg\" alt=\"Open In Colab\"/></a>"
      ]
    },
    {
      "cell_type": "code",
      "metadata": {
        "id": "qOkYqgm2acyQ"
      },
      "source": [
        "import pandas as pd\n",
        "import numpy as np\n",
        "import json\n",
        "\n",
        "import matplotlib.pyplot as plt\n",
        "import seaborn as sns\n",
        "\n",
        "import tensorflow as tf\n",
        "from tensorflow.keras.models import Model\n",
        "from sklearn.model_selection import train_test_split\n",
        "from sklearn.preprocessing import MinMaxScaler, StandardScaler\n",
        "\n",
        "#from google.colab import files"
      ],
      "execution_count": 2,
      "outputs": []
    },
    {
      "cell_type": "code",
      "metadata": {
        "colab": {
          "base_uri": "https://localhost:8080/"
        },
        "id": "qG1_8v0e2Ac5",
        "outputId": "91064321-f4c8-4c37-a6df-872ff927f365"
      },
      "source": [
        "%ls"
      ],
      "execution_count": 3,
      "outputs": [
        {
          "output_type": "stream",
          "name": "stdout",
          "text": [
            "austin_restaurant_inspections_full_dataset_03.csv\n",
            "austin_restaurant_inspections_X_test.csv\n",
            "austin_restaurant_inspections_X_test_scaled.csv\n",
            "austin_restaurant_inspections_X_train.csv\n",
            "austin_restaurant_inspections_X_train_scaled.csv\n",
            "austin_restaurant_inspections_y_test.csv\n",
            "austin_restaurant_inspections_y_test_scaled.csv\n",
            "austin_restaurant_inspections_y_train.csv\n",
            "austin_restaurant_inspections_y_train_scaled.csv\n",
            "\u001b[0m\u001b[01;34msample_data\u001b[0m/\n"
          ]
        }
      ]
    },
    {
      "cell_type": "markdown",
      "metadata": {
        "id": "6_CeSiTlHjmh"
      },
      "source": [
        "## Reading in the data"
      ]
    },
    {
      "cell_type": "code",
      "metadata": {
        "id": "IgGCSSM9bc2P"
      },
      "source": [
        "full = pd.read_csv('/content/austin_restaurant_inspections_full_dataset_03.csv')\n",
        "X_train_scaled = pd.read_csv('/content/austin_restaurant_inspections_X_train_scaled.csv')\n",
        "X_test_scaled = pd.read_csv('/content/austin_restaurant_inspections_X_test_scaled.csv')\n",
        "y_train = pd.read_csv('/content/austin_restaurant_inspections_y_train_scaled.csv')\n",
        "y_test = pd.read_csv('/content/austin_restaurant_inspections_y_test_scaled.csv')\n",
        "\n",
        "#/content/austin_restaurant_inspections_X_test.csv"
      ],
      "execution_count": 4,
      "outputs": []
    },
    {
      "cell_type": "code",
      "metadata": {
        "id": "sQmk8xte1hLK",
        "colab": {
          "base_uri": "https://localhost:8080/",
          "height": 237
        },
        "outputId": "aab4d032-ff30-4e94-e8a1-9216f6ca7e06"
      },
      "source": [
        "X_train_scaled.head()"
      ],
      "execution_count": 5,
      "outputs": [
        {
          "output_type": "execute_result",
          "data": {
            "text/html": [
              "<div>\n",
              "<style scoped>\n",
              "    .dataframe tbody tr th:only-of-type {\n",
              "        vertical-align: middle;\n",
              "    }\n",
              "\n",
              "    .dataframe tbody tr th {\n",
              "        vertical-align: top;\n",
              "    }\n",
              "\n",
              "    .dataframe thead th {\n",
              "        text-align: right;\n",
              "    }\n",
              "</style>\n",
              "<table border=\"1\" class=\"dataframe\">\n",
              "  <thead>\n",
              "    <tr style=\"text-align: right;\">\n",
              "      <th></th>\n",
              "      <th>Unnamed: 0</th>\n",
              "      <th>review_length</th>\n",
              "      <th>review_word_count</th>\n",
              "      <th>oldest_score</th>\n",
              "      <th>newest_score</th>\n",
              "      <th>reviews_count</th>\n",
              "      <th>stars</th>\n",
              "      <th>useful_sum</th>\n",
              "      <th>stars_5.0_sum</th>\n",
              "      <th>cool_sum</th>\n",
              "      <th>RestaurantsPriceRange2</th>\n",
              "      <th>funny_sum</th>\n",
              "      <th>Restaurants</th>\n",
              "      <th>BusinessAcceptsCreditCards</th>\n",
              "      <th>Smoking_0</th>\n",
              "      <th>RestaurantsTakeOut</th>\n",
              "      <th>is_open</th>\n",
              "      <th>stars_4.0_sum</th>\n",
              "      <th>RestaurantsGoodForGroups</th>\n",
              "      <th>GoodForKids</th>\n",
              "      <th>BikeParking</th>\n",
              "      <th>lot</th>\n",
              "      <th>HasTV</th>\n",
              "      <th>RestaurantsDelivery</th>\n",
              "      <th>casual</th>\n",
              "      <th>NoiseLevel_u'average'</th>\n",
              "      <th>stars_1.0_sum</th>\n",
              "      <th>OutdoorSeating</th>\n",
              "      <th>lunch</th>\n",
              "      <th>Caters</th>\n",
              "      <th>Food</th>\n",
              "      <th>stars_3.0_sum</th>\n",
              "      <th>RestaurantsAttire_'casual'</th>\n",
              "      <th>RestaurantsAttire_u'casual'</th>\n",
              "      <th>dinner</th>\n",
              "      <th>WiFi_u'free'</th>\n",
              "      <th>WheelchairAccessible</th>\n",
              "      <th>stars_2.0_sum</th>\n",
              "      <th>HappyHour</th>\n",
              "      <th>classy</th>\n",
              "      <th>Alcohol_u'none'</th>\n",
              "      <th>RestaurantsTableService</th>\n",
              "      <th>street</th>\n",
              "      <th>RestaurantsReservations</th>\n",
              "      <th>Bars</th>\n",
              "      <th>WiFi_u'no'</th>\n",
              "      <th>Alcohol_u'full_bar'</th>\n",
              "      <th>Mexican</th>\n",
              "      <th>Nightlife</th>\n",
              "      <th>NoiseLevel_0</th>\n",
              "      <th>DogsAllowed</th>\n",
              "      <th>Breakfast &amp; Brunch</th>\n",
              "      <th>RestaurantsPriceRange_0.0</th>\n",
              "      <th>RestaurantsPriceRange_1.0</th>\n",
              "      <th>RestaurantsPriceRange_2.0</th>\n",
              "      <th>RestaurantsPriceRange_3.0</th>\n",
              "      <th>Score_LG</th>\n",
              "    </tr>\n",
              "  </thead>\n",
              "  <tbody>\n",
              "    <tr>\n",
              "      <th>0</th>\n",
              "      <td>4153</td>\n",
              "      <td>0.042165</td>\n",
              "      <td>0.043746</td>\n",
              "      <td>0.800000</td>\n",
              "      <td>0.277778</td>\n",
              "      <td>0.010256</td>\n",
              "      <td>0.375</td>\n",
              "      <td>0.004975</td>\n",
              "      <td>0.000000</td>\n",
              "      <td>0.000000</td>\n",
              "      <td>0.5</td>\n",
              "      <td>0.000</td>\n",
              "      <td>1.0</td>\n",
              "      <td>1.0</td>\n",
              "      <td>1</td>\n",
              "      <td>1.0</td>\n",
              "      <td>1.0</td>\n",
              "      <td>0.000000</td>\n",
              "      <td>1.0</td>\n",
              "      <td>1.0</td>\n",
              "      <td>1.0</td>\n",
              "      <td>1.0</td>\n",
              "      <td>1.0</td>\n",
              "      <td>1.0</td>\n",
              "      <td>1.0</td>\n",
              "      <td>1</td>\n",
              "      <td>0.030303</td>\n",
              "      <td>0.0</td>\n",
              "      <td>1.0</td>\n",
              "      <td>0.0</td>\n",
              "      <td>1.0</td>\n",
              "      <td>0.055556</td>\n",
              "      <td>1</td>\n",
              "      <td>0</td>\n",
              "      <td>0.0</td>\n",
              "      <td>0</td>\n",
              "      <td>0.0</td>\n",
              "      <td>0.000000</td>\n",
              "      <td>0.0</td>\n",
              "      <td>0.0</td>\n",
              "      <td>1</td>\n",
              "      <td>1.0</td>\n",
              "      <td>0.0</td>\n",
              "      <td>0.0</td>\n",
              "      <td>0.0</td>\n",
              "      <td>0</td>\n",
              "      <td>0</td>\n",
              "      <td>0.0</td>\n",
              "      <td>0.0</td>\n",
              "      <td>0</td>\n",
              "      <td>0.0</td>\n",
              "      <td>1.0</td>\n",
              "      <td>0</td>\n",
              "      <td>0</td>\n",
              "      <td>1</td>\n",
              "      <td>0</td>\n",
              "      <td>0.933333</td>\n",
              "    </tr>\n",
              "    <tr>\n",
              "      <th>1</th>\n",
              "      <td>2528</td>\n",
              "      <td>0.188831</td>\n",
              "      <td>0.180803</td>\n",
              "      <td>0.533333</td>\n",
              "      <td>0.611111</td>\n",
              "      <td>0.087179</td>\n",
              "      <td>0.750</td>\n",
              "      <td>0.039801</td>\n",
              "      <td>0.046053</td>\n",
              "      <td>0.037838</td>\n",
              "      <td>0.5</td>\n",
              "      <td>0.040</td>\n",
              "      <td>1.0</td>\n",
              "      <td>1.0</td>\n",
              "      <td>1</td>\n",
              "      <td>1.0</td>\n",
              "      <td>1.0</td>\n",
              "      <td>0.178571</td>\n",
              "      <td>1.0</td>\n",
              "      <td>1.0</td>\n",
              "      <td>1.0</td>\n",
              "      <td>0.0</td>\n",
              "      <td>0.0</td>\n",
              "      <td>0.0</td>\n",
              "      <td>1.0</td>\n",
              "      <td>1</td>\n",
              "      <td>0.090909</td>\n",
              "      <td>0.0</td>\n",
              "      <td>0.0</td>\n",
              "      <td>0.0</td>\n",
              "      <td>0.0</td>\n",
              "      <td>0.111111</td>\n",
              "      <td>1</td>\n",
              "      <td>0</td>\n",
              "      <td>0.0</td>\n",
              "      <td>1</td>\n",
              "      <td>0.0</td>\n",
              "      <td>0.000000</td>\n",
              "      <td>0.0</td>\n",
              "      <td>1.0</td>\n",
              "      <td>0</td>\n",
              "      <td>1.0</td>\n",
              "      <td>1.0</td>\n",
              "      <td>0.0</td>\n",
              "      <td>0.0</td>\n",
              "      <td>0</td>\n",
              "      <td>1</td>\n",
              "      <td>0.0</td>\n",
              "      <td>0.0</td>\n",
              "      <td>0</td>\n",
              "      <td>1.0</td>\n",
              "      <td>1.0</td>\n",
              "      <td>0</td>\n",
              "      <td>0</td>\n",
              "      <td>1</td>\n",
              "      <td>0</td>\n",
              "      <td>0.644444</td>\n",
              "    </tr>\n",
              "    <tr>\n",
              "      <th>2</th>\n",
              "      <td>5064</td>\n",
              "      <td>0.000000</td>\n",
              "      <td>0.000000</td>\n",
              "      <td>0.866667</td>\n",
              "      <td>0.805556</td>\n",
              "      <td>0.000000</td>\n",
              "      <td>0.500</td>\n",
              "      <td>0.000000</td>\n",
              "      <td>0.000000</td>\n",
              "      <td>0.000000</td>\n",
              "      <td>0.5</td>\n",
              "      <td>0.000</td>\n",
              "      <td>1.0</td>\n",
              "      <td>1.0</td>\n",
              "      <td>0</td>\n",
              "      <td>0.0</td>\n",
              "      <td>1.0</td>\n",
              "      <td>0.000000</td>\n",
              "      <td>1.0</td>\n",
              "      <td>0.0</td>\n",
              "      <td>1.0</td>\n",
              "      <td>0.0</td>\n",
              "      <td>1.0</td>\n",
              "      <td>0.0</td>\n",
              "      <td>0.0</td>\n",
              "      <td>0</td>\n",
              "      <td>0.000000</td>\n",
              "      <td>0.0</td>\n",
              "      <td>0.0</td>\n",
              "      <td>0.0</td>\n",
              "      <td>0.0</td>\n",
              "      <td>0.000000</td>\n",
              "      <td>0</td>\n",
              "      <td>0</td>\n",
              "      <td>0.0</td>\n",
              "      <td>1</td>\n",
              "      <td>1.0</td>\n",
              "      <td>0.000000</td>\n",
              "      <td>1.0</td>\n",
              "      <td>0.0</td>\n",
              "      <td>0</td>\n",
              "      <td>0.0</td>\n",
              "      <td>1.0</td>\n",
              "      <td>0.0</td>\n",
              "      <td>1.0</td>\n",
              "      <td>0</td>\n",
              "      <td>1</td>\n",
              "      <td>0.0</td>\n",
              "      <td>1.0</td>\n",
              "      <td>0</td>\n",
              "      <td>1.0</td>\n",
              "      <td>0.0</td>\n",
              "      <td>0</td>\n",
              "      <td>0</td>\n",
              "      <td>1</td>\n",
              "      <td>0</td>\n",
              "      <td>0.844444</td>\n",
              "    </tr>\n",
              "    <tr>\n",
              "      <th>3</th>\n",
              "      <td>4135</td>\n",
              "      <td>0.018644</td>\n",
              "      <td>0.016990</td>\n",
              "      <td>1.000000</td>\n",
              "      <td>0.722222</td>\n",
              "      <td>0.005128</td>\n",
              "      <td>0.750</td>\n",
              "      <td>0.000000</td>\n",
              "      <td>0.006579</td>\n",
              "      <td>0.000000</td>\n",
              "      <td>0.0</td>\n",
              "      <td>0.000</td>\n",
              "      <td>1.0</td>\n",
              "      <td>1.0</td>\n",
              "      <td>1</td>\n",
              "      <td>0.0</td>\n",
              "      <td>1.0</td>\n",
              "      <td>0.000000</td>\n",
              "      <td>0.0</td>\n",
              "      <td>0.0</td>\n",
              "      <td>0.0</td>\n",
              "      <td>0.0</td>\n",
              "      <td>0.0</td>\n",
              "      <td>0.0</td>\n",
              "      <td>0.0</td>\n",
              "      <td>1</td>\n",
              "      <td>0.000000</td>\n",
              "      <td>0.0</td>\n",
              "      <td>0.0</td>\n",
              "      <td>0.0</td>\n",
              "      <td>1.0</td>\n",
              "      <td>0.000000</td>\n",
              "      <td>0</td>\n",
              "      <td>0</td>\n",
              "      <td>0.0</td>\n",
              "      <td>0</td>\n",
              "      <td>0.0</td>\n",
              "      <td>0.000000</td>\n",
              "      <td>0.0</td>\n",
              "      <td>0.0</td>\n",
              "      <td>0</td>\n",
              "      <td>0.0</td>\n",
              "      <td>0.0</td>\n",
              "      <td>0.0</td>\n",
              "      <td>0.0</td>\n",
              "      <td>0</td>\n",
              "      <td>0</td>\n",
              "      <td>0.0</td>\n",
              "      <td>0.0</td>\n",
              "      <td>0</td>\n",
              "      <td>0.0</td>\n",
              "      <td>0.0</td>\n",
              "      <td>1</td>\n",
              "      <td>0</td>\n",
              "      <td>0</td>\n",
              "      <td>0</td>\n",
              "      <td>1.000000</td>\n",
              "    </tr>\n",
              "    <tr>\n",
              "      <th>4</th>\n",
              "      <td>723</td>\n",
              "      <td>0.279299</td>\n",
              "      <td>0.275184</td>\n",
              "      <td>0.822222</td>\n",
              "      <td>0.750000</td>\n",
              "      <td>0.179487</td>\n",
              "      <td>0.750</td>\n",
              "      <td>0.054726</td>\n",
              "      <td>0.118421</td>\n",
              "      <td>0.027027</td>\n",
              "      <td>0.5</td>\n",
              "      <td>0.024</td>\n",
              "      <td>1.0</td>\n",
              "      <td>1.0</td>\n",
              "      <td>1</td>\n",
              "      <td>1.0</td>\n",
              "      <td>1.0</td>\n",
              "      <td>0.250000</td>\n",
              "      <td>1.0</td>\n",
              "      <td>1.0</td>\n",
              "      <td>0.0</td>\n",
              "      <td>1.0</td>\n",
              "      <td>0.0</td>\n",
              "      <td>0.0</td>\n",
              "      <td>1.0</td>\n",
              "      <td>1</td>\n",
              "      <td>0.121212</td>\n",
              "      <td>1.0</td>\n",
              "      <td>0.0</td>\n",
              "      <td>0.0</td>\n",
              "      <td>0.0</td>\n",
              "      <td>0.222222</td>\n",
              "      <td>0</td>\n",
              "      <td>1</td>\n",
              "      <td>1.0</td>\n",
              "      <td>0</td>\n",
              "      <td>0.0</td>\n",
              "      <td>0.083333</td>\n",
              "      <td>1.0</td>\n",
              "      <td>0.0</td>\n",
              "      <td>0</td>\n",
              "      <td>1.0</td>\n",
              "      <td>1.0</td>\n",
              "      <td>1.0</td>\n",
              "      <td>0.0</td>\n",
              "      <td>1</td>\n",
              "      <td>0</td>\n",
              "      <td>0.0</td>\n",
              "      <td>0.0</td>\n",
              "      <td>0</td>\n",
              "      <td>0.0</td>\n",
              "      <td>0.0</td>\n",
              "      <td>0</td>\n",
              "      <td>0</td>\n",
              "      <td>1</td>\n",
              "      <td>0</td>\n",
              "      <td>0.822222</td>\n",
              "    </tr>\n",
              "  </tbody>\n",
              "</table>\n",
              "</div>"
            ],
            "text/plain": [
              "   Unnamed: 0  review_length  ...  RestaurantsPriceRange_3.0  Score_LG\n",
              "0        4153       0.042165  ...                          0  0.933333\n",
              "1        2528       0.188831  ...                          0  0.644444\n",
              "2        5064       0.000000  ...                          0  0.844444\n",
              "3        4135       0.018644  ...                          0  1.000000\n",
              "4         723       0.279299  ...                          0  0.822222\n",
              "\n",
              "[5 rows x 57 columns]"
            ]
          },
          "metadata": {},
          "execution_count": 5
        }
      ]
    },
    {
      "cell_type": "code",
      "metadata": {
        "id": "HIhoU5ZBZmQL",
        "colab": {
          "base_uri": "https://localhost:8080/"
        },
        "outputId": "311adcda-1461-4d76-d4d6-28e3d2ddc785"
      },
      "source": [
        "y_train.pass_fail_flag.value_counts(normalize=True)"
      ],
      "execution_count": 6,
      "outputs": [
        {
          "output_type": "execute_result",
          "data": {
            "text/plain": [
              "0    0.991414\n",
              "1    0.008586\n",
              "Name: pass_fail_flag, dtype: float64"
            ]
          },
          "metadata": {},
          "execution_count": 6
        }
      ]
    },
    {
      "cell_type": "code",
      "metadata": {
        "id": "JDbUqHuTZv4R",
        "colab": {
          "base_uri": "https://localhost:8080/"
        },
        "outputId": "b58d3022-7dea-4547-a999-50d1bc8a8e1e"
      },
      "source": [
        "full.letter_grade.value_counts(normalize=True)"
      ],
      "execution_count": 7,
      "outputs": [
        {
          "output_type": "execute_result",
          "data": {
            "text/plain": [
              "A    0.582074\n",
              "B    0.315762\n",
              "C    0.093922\n",
              "F    0.008242\n",
              "Name: letter_grade, dtype: float64"
            ]
          },
          "metadata": {},
          "execution_count": 7
        }
      ]
    },
    {
      "cell_type": "code",
      "metadata": {
        "id": "fi6SPQ3DxgXN"
      },
      "source": [
        "y_train.drop(columns=['Unnamed: 0'], inplace = True)\n",
        "X_train_scaled.drop(columns=['Unnamed: 0','Score_LG','oldest_score','newest_score','is_open','RestaurantsPriceRange_0.0','Food'], inplace = True)\n",
        "y_test.drop(columns=['Unnamed: 0'], inplace = True)\n",
        "X_test_scaled.drop(columns=['Unnamed: 0','Score_LG','oldest_score','newest_score','is_open','RestaurantsPriceRange_0.0','Food'], inplace = True)"
      ],
      "execution_count": 8,
      "outputs": []
    },
    {
      "cell_type": "code",
      "metadata": {
        "id": "-PmfGslGadKI",
        "colab": {
          "base_uri": "https://localhost:8080/"
        },
        "outputId": "94c1b976-5cbb-49db-d4dc-0b7fac457cc0"
      },
      "source": [
        "print(X_train_scaled.shape)\n",
        "print(y_train.shape)\n",
        "print(y_test.shape)\n",
        "\n",
        "train_scaled = pd.concat([y_train,X_train_scaled], axis=1)\n",
        "test_scaled = pd.concat([y_test,X_test_scaled], axis=1)\n",
        "\n",
        "print(train_scaled.shape)\n",
        "print(test_scaled.shape)"
      ],
      "execution_count": 9,
      "outputs": [
        {
          "output_type": "stream",
          "name": "stdout",
          "text": [
            "(4659, 50)\n",
            "(4659, 1)\n",
            "(1165, 1)\n",
            "(4659, 51)\n",
            "(1165, 51)\n"
          ]
        }
      ]
    },
    {
      "cell_type": "code",
      "metadata": {
        "id": "LWvDGEdQeCD-",
        "colab": {
          "base_uri": "https://localhost:8080/"
        },
        "outputId": "dc9bc662-577c-4b65-e20b-f8c75b520507"
      },
      "source": [
        "print(train_scaled.columns)"
      ],
      "execution_count": 10,
      "outputs": [
        {
          "output_type": "stream",
          "name": "stdout",
          "text": [
            "Index(['pass_fail_flag', 'review_length', 'review_word_count', 'reviews_count',\n",
            "       'stars', 'useful_sum', 'stars_5.0_sum', 'cool_sum',\n",
            "       'RestaurantsPriceRange2', 'funny_sum', 'Restaurants',\n",
            "       'BusinessAcceptsCreditCards', 'Smoking_0', 'RestaurantsTakeOut',\n",
            "       'stars_4.0_sum', 'RestaurantsGoodForGroups', 'GoodForKids',\n",
            "       'BikeParking', 'lot', 'HasTV', 'RestaurantsDelivery', 'casual',\n",
            "       'NoiseLevel_u'average'', 'stars_1.0_sum', 'OutdoorSeating', 'lunch',\n",
            "       'Caters', 'stars_3.0_sum', 'RestaurantsAttire_'casual'',\n",
            "       'RestaurantsAttire_u'casual'', 'dinner', 'WiFi_u'free'',\n",
            "       'WheelchairAccessible', 'stars_2.0_sum', 'HappyHour', 'classy',\n",
            "       'Alcohol_u'none'', 'RestaurantsTableService', 'street',\n",
            "       'RestaurantsReservations', 'Bars', 'WiFi_u'no'', 'Alcohol_u'full_bar'',\n",
            "       'Mexican', 'Nightlife', 'NoiseLevel_0', 'DogsAllowed',\n",
            "       'Breakfast & Brunch', 'RestaurantsPriceRange_1.0',\n",
            "       'RestaurantsPriceRange_2.0', 'RestaurantsPriceRange_3.0'],\n",
            "      dtype='object')\n"
          ]
        }
      ]
    },
    {
      "cell_type": "code",
      "metadata": {
        "id": "1ux-px9cv-Gf",
        "colab": {
          "base_uri": "https://localhost:8080/"
        },
        "outputId": "f4dda6f3-bfe2-456f-bf38-fddcc847b315"
      },
      "source": [
        "train_scaled.pass_fail_flag.value_counts(normalize=True)"
      ],
      "execution_count": 11,
      "outputs": [
        {
          "output_type": "execute_result",
          "data": {
            "text/plain": [
              "0    0.991414\n",
              "1    0.008586\n",
              "Name: pass_fail_flag, dtype: float64"
            ]
          },
          "metadata": {},
          "execution_count": 11
        }
      ]
    },
    {
      "cell_type": "code",
      "metadata": {
        "id": "aENAgV8yzF7h",
        "colab": {
          "base_uri": "https://localhost:8080/",
          "height": 115
        },
        "outputId": "65335344-1607-49a3-8a65-917ae8454330"
      },
      "source": [
        "train_scaled.head(1)"
      ],
      "execution_count": 12,
      "outputs": [
        {
          "output_type": "execute_result",
          "data": {
            "text/html": [
              "<div>\n",
              "<style scoped>\n",
              "    .dataframe tbody tr th:only-of-type {\n",
              "        vertical-align: middle;\n",
              "    }\n",
              "\n",
              "    .dataframe tbody tr th {\n",
              "        vertical-align: top;\n",
              "    }\n",
              "\n",
              "    .dataframe thead th {\n",
              "        text-align: right;\n",
              "    }\n",
              "</style>\n",
              "<table border=\"1\" class=\"dataframe\">\n",
              "  <thead>\n",
              "    <tr style=\"text-align: right;\">\n",
              "      <th></th>\n",
              "      <th>pass_fail_flag</th>\n",
              "      <th>review_length</th>\n",
              "      <th>review_word_count</th>\n",
              "      <th>reviews_count</th>\n",
              "      <th>stars</th>\n",
              "      <th>useful_sum</th>\n",
              "      <th>stars_5.0_sum</th>\n",
              "      <th>cool_sum</th>\n",
              "      <th>RestaurantsPriceRange2</th>\n",
              "      <th>funny_sum</th>\n",
              "      <th>Restaurants</th>\n",
              "      <th>BusinessAcceptsCreditCards</th>\n",
              "      <th>Smoking_0</th>\n",
              "      <th>RestaurantsTakeOut</th>\n",
              "      <th>stars_4.0_sum</th>\n",
              "      <th>RestaurantsGoodForGroups</th>\n",
              "      <th>GoodForKids</th>\n",
              "      <th>BikeParking</th>\n",
              "      <th>lot</th>\n",
              "      <th>HasTV</th>\n",
              "      <th>RestaurantsDelivery</th>\n",
              "      <th>casual</th>\n",
              "      <th>NoiseLevel_u'average'</th>\n",
              "      <th>stars_1.0_sum</th>\n",
              "      <th>OutdoorSeating</th>\n",
              "      <th>lunch</th>\n",
              "      <th>Caters</th>\n",
              "      <th>stars_3.0_sum</th>\n",
              "      <th>RestaurantsAttire_'casual'</th>\n",
              "      <th>RestaurantsAttire_u'casual'</th>\n",
              "      <th>dinner</th>\n",
              "      <th>WiFi_u'free'</th>\n",
              "      <th>WheelchairAccessible</th>\n",
              "      <th>stars_2.0_sum</th>\n",
              "      <th>HappyHour</th>\n",
              "      <th>classy</th>\n",
              "      <th>Alcohol_u'none'</th>\n",
              "      <th>RestaurantsTableService</th>\n",
              "      <th>street</th>\n",
              "      <th>RestaurantsReservations</th>\n",
              "      <th>Bars</th>\n",
              "      <th>WiFi_u'no'</th>\n",
              "      <th>Alcohol_u'full_bar'</th>\n",
              "      <th>Mexican</th>\n",
              "      <th>Nightlife</th>\n",
              "      <th>NoiseLevel_0</th>\n",
              "      <th>DogsAllowed</th>\n",
              "      <th>Breakfast &amp; Brunch</th>\n",
              "      <th>RestaurantsPriceRange_1.0</th>\n",
              "      <th>RestaurantsPriceRange_2.0</th>\n",
              "      <th>RestaurantsPriceRange_3.0</th>\n",
              "    </tr>\n",
              "  </thead>\n",
              "  <tbody>\n",
              "    <tr>\n",
              "      <th>0</th>\n",
              "      <td>0</td>\n",
              "      <td>0.042165</td>\n",
              "      <td>0.043746</td>\n",
              "      <td>0.010256</td>\n",
              "      <td>0.375</td>\n",
              "      <td>0.004975</td>\n",
              "      <td>0.0</td>\n",
              "      <td>0.0</td>\n",
              "      <td>0.5</td>\n",
              "      <td>0.0</td>\n",
              "      <td>1.0</td>\n",
              "      <td>1.0</td>\n",
              "      <td>1</td>\n",
              "      <td>1.0</td>\n",
              "      <td>0.0</td>\n",
              "      <td>1.0</td>\n",
              "      <td>1.0</td>\n",
              "      <td>1.0</td>\n",
              "      <td>1.0</td>\n",
              "      <td>1.0</td>\n",
              "      <td>1.0</td>\n",
              "      <td>1.0</td>\n",
              "      <td>1</td>\n",
              "      <td>0.030303</td>\n",
              "      <td>0.0</td>\n",
              "      <td>1.0</td>\n",
              "      <td>0.0</td>\n",
              "      <td>0.055556</td>\n",
              "      <td>1</td>\n",
              "      <td>0</td>\n",
              "      <td>0.0</td>\n",
              "      <td>0</td>\n",
              "      <td>0.0</td>\n",
              "      <td>0.0</td>\n",
              "      <td>0.0</td>\n",
              "      <td>0.0</td>\n",
              "      <td>1</td>\n",
              "      <td>1.0</td>\n",
              "      <td>0.0</td>\n",
              "      <td>0.0</td>\n",
              "      <td>0.0</td>\n",
              "      <td>0</td>\n",
              "      <td>0</td>\n",
              "      <td>0.0</td>\n",
              "      <td>0.0</td>\n",
              "      <td>0</td>\n",
              "      <td>0.0</td>\n",
              "      <td>1.0</td>\n",
              "      <td>0</td>\n",
              "      <td>1</td>\n",
              "      <td>0</td>\n",
              "    </tr>\n",
              "  </tbody>\n",
              "</table>\n",
              "</div>"
            ],
            "text/plain": [
              "   pass_fail_flag  ...  RestaurantsPriceRange_3.0\n",
              "0               0  ...                          0\n",
              "\n",
              "[1 rows x 51 columns]"
            ]
          },
          "metadata": {},
          "execution_count": 12
        }
      ]
    },
    {
      "cell_type": "code",
      "metadata": {
        "id": "c03j7rSTyAoR"
      },
      "source": [
        "pass_train_data = train_scaled[train_scaled.pass_fail_flag == 0].iloc[:,1:]\n",
        "fail_train_data = train_scaled[train_scaled.pass_fail_flag == 1].iloc[:,1:]"
      ],
      "execution_count": 13,
      "outputs": []
    },
    {
      "cell_type": "code",
      "metadata": {
        "id": "DWB9QyOby9dW",
        "colab": {
          "base_uri": "https://localhost:8080/",
          "height": 237
        },
        "outputId": "a7973d73-d24a-4c12-d474-dfea28e3d480"
      },
      "source": [
        "fail_train_data.head()"
      ],
      "execution_count": 14,
      "outputs": [
        {
          "output_type": "execute_result",
          "data": {
            "text/html": [
              "<div>\n",
              "<style scoped>\n",
              "    .dataframe tbody tr th:only-of-type {\n",
              "        vertical-align: middle;\n",
              "    }\n",
              "\n",
              "    .dataframe tbody tr th {\n",
              "        vertical-align: top;\n",
              "    }\n",
              "\n",
              "    .dataframe thead th {\n",
              "        text-align: right;\n",
              "    }\n",
              "</style>\n",
              "<table border=\"1\" class=\"dataframe\">\n",
              "  <thead>\n",
              "    <tr style=\"text-align: right;\">\n",
              "      <th></th>\n",
              "      <th>review_length</th>\n",
              "      <th>review_word_count</th>\n",
              "      <th>reviews_count</th>\n",
              "      <th>stars</th>\n",
              "      <th>useful_sum</th>\n",
              "      <th>stars_5.0_sum</th>\n",
              "      <th>cool_sum</th>\n",
              "      <th>RestaurantsPriceRange2</th>\n",
              "      <th>funny_sum</th>\n",
              "      <th>Restaurants</th>\n",
              "      <th>BusinessAcceptsCreditCards</th>\n",
              "      <th>Smoking_0</th>\n",
              "      <th>RestaurantsTakeOut</th>\n",
              "      <th>stars_4.0_sum</th>\n",
              "      <th>RestaurantsGoodForGroups</th>\n",
              "      <th>GoodForKids</th>\n",
              "      <th>BikeParking</th>\n",
              "      <th>lot</th>\n",
              "      <th>HasTV</th>\n",
              "      <th>RestaurantsDelivery</th>\n",
              "      <th>casual</th>\n",
              "      <th>NoiseLevel_u'average'</th>\n",
              "      <th>stars_1.0_sum</th>\n",
              "      <th>OutdoorSeating</th>\n",
              "      <th>lunch</th>\n",
              "      <th>Caters</th>\n",
              "      <th>stars_3.0_sum</th>\n",
              "      <th>RestaurantsAttire_'casual'</th>\n",
              "      <th>RestaurantsAttire_u'casual'</th>\n",
              "      <th>dinner</th>\n",
              "      <th>WiFi_u'free'</th>\n",
              "      <th>WheelchairAccessible</th>\n",
              "      <th>stars_2.0_sum</th>\n",
              "      <th>HappyHour</th>\n",
              "      <th>classy</th>\n",
              "      <th>Alcohol_u'none'</th>\n",
              "      <th>RestaurantsTableService</th>\n",
              "      <th>street</th>\n",
              "      <th>RestaurantsReservations</th>\n",
              "      <th>Bars</th>\n",
              "      <th>WiFi_u'no'</th>\n",
              "      <th>Alcohol_u'full_bar'</th>\n",
              "      <th>Mexican</th>\n",
              "      <th>Nightlife</th>\n",
              "      <th>NoiseLevel_0</th>\n",
              "      <th>DogsAllowed</th>\n",
              "      <th>Breakfast &amp; Brunch</th>\n",
              "      <th>RestaurantsPriceRange_1.0</th>\n",
              "      <th>RestaurantsPriceRange_2.0</th>\n",
              "      <th>RestaurantsPriceRange_3.0</th>\n",
              "    </tr>\n",
              "  </thead>\n",
              "  <tbody>\n",
              "    <tr>\n",
              "      <th>9</th>\n",
              "      <td>0.039815</td>\n",
              "      <td>0.039331</td>\n",
              "      <td>0.046154</td>\n",
              "      <td>0.625</td>\n",
              "      <td>0.024876</td>\n",
              "      <td>0.019737</td>\n",
              "      <td>0.0</td>\n",
              "      <td>0.50</td>\n",
              "      <td>0.000</td>\n",
              "      <td>1.0</td>\n",
              "      <td>1.0</td>\n",
              "      <td>1</td>\n",
              "      <td>1.0</td>\n",
              "      <td>0.035714</td>\n",
              "      <td>1.0</td>\n",
              "      <td>1.0</td>\n",
              "      <td>1.0</td>\n",
              "      <td>1.0</td>\n",
              "      <td>0.0</td>\n",
              "      <td>1.0</td>\n",
              "      <td>1.0</td>\n",
              "      <td>1</td>\n",
              "      <td>0.121212</td>\n",
              "      <td>0.0</td>\n",
              "      <td>1.0</td>\n",
              "      <td>1.0</td>\n",
              "      <td>0.055556</td>\n",
              "      <td>0</td>\n",
              "      <td>1</td>\n",
              "      <td>1.0</td>\n",
              "      <td>1</td>\n",
              "      <td>0.0</td>\n",
              "      <td>0.000000</td>\n",
              "      <td>0.0</td>\n",
              "      <td>0.0</td>\n",
              "      <td>1</td>\n",
              "      <td>0.0</td>\n",
              "      <td>0.0</td>\n",
              "      <td>1.0</td>\n",
              "      <td>0.0</td>\n",
              "      <td>0</td>\n",
              "      <td>0</td>\n",
              "      <td>0.0</td>\n",
              "      <td>0.0</td>\n",
              "      <td>0</td>\n",
              "      <td>0.0</td>\n",
              "      <td>0.0</td>\n",
              "      <td>0</td>\n",
              "      <td>1</td>\n",
              "      <td>0</td>\n",
              "    </tr>\n",
              "    <tr>\n",
              "      <th>164</th>\n",
              "      <td>0.018076</td>\n",
              "      <td>0.017993</td>\n",
              "      <td>0.015385</td>\n",
              "      <td>0.625</td>\n",
              "      <td>0.014925</td>\n",
              "      <td>0.006579</td>\n",
              "      <td>0.0</td>\n",
              "      <td>0.25</td>\n",
              "      <td>0.008</td>\n",
              "      <td>1.0</td>\n",
              "      <td>1.0</td>\n",
              "      <td>1</td>\n",
              "      <td>1.0</td>\n",
              "      <td>0.000000</td>\n",
              "      <td>1.0</td>\n",
              "      <td>1.0</td>\n",
              "      <td>1.0</td>\n",
              "      <td>1.0</td>\n",
              "      <td>1.0</td>\n",
              "      <td>1.0</td>\n",
              "      <td>0.0</td>\n",
              "      <td>1</td>\n",
              "      <td>0.030303</td>\n",
              "      <td>1.0</td>\n",
              "      <td>1.0</td>\n",
              "      <td>1.0</td>\n",
              "      <td>0.000000</td>\n",
              "      <td>1</td>\n",
              "      <td>0</td>\n",
              "      <td>0.0</td>\n",
              "      <td>1</td>\n",
              "      <td>0.0</td>\n",
              "      <td>0.041667</td>\n",
              "      <td>1.0</td>\n",
              "      <td>0.0</td>\n",
              "      <td>0</td>\n",
              "      <td>0.0</td>\n",
              "      <td>1.0</td>\n",
              "      <td>1.0</td>\n",
              "      <td>1.0</td>\n",
              "      <td>0</td>\n",
              "      <td>1</td>\n",
              "      <td>1.0</td>\n",
              "      <td>1.0</td>\n",
              "      <td>0</td>\n",
              "      <td>0.0</td>\n",
              "      <td>0.0</td>\n",
              "      <td>1</td>\n",
              "      <td>0</td>\n",
              "      <td>0</td>\n",
              "    </tr>\n",
              "    <tr>\n",
              "      <th>296</th>\n",
              "      <td>0.010560</td>\n",
              "      <td>0.010702</td>\n",
              "      <td>0.010256</td>\n",
              "      <td>0.250</td>\n",
              "      <td>0.004975</td>\n",
              "      <td>0.000000</td>\n",
              "      <td>0.0</td>\n",
              "      <td>0.25</td>\n",
              "      <td>0.016</td>\n",
              "      <td>1.0</td>\n",
              "      <td>1.0</td>\n",
              "      <td>1</td>\n",
              "      <td>1.0</td>\n",
              "      <td>0.000000</td>\n",
              "      <td>1.0</td>\n",
              "      <td>1.0</td>\n",
              "      <td>0.0</td>\n",
              "      <td>1.0</td>\n",
              "      <td>1.0</td>\n",
              "      <td>1.0</td>\n",
              "      <td>0.0</td>\n",
              "      <td>0</td>\n",
              "      <td>0.030303</td>\n",
              "      <td>0.0</td>\n",
              "      <td>0.0</td>\n",
              "      <td>0.0</td>\n",
              "      <td>0.000000</td>\n",
              "      <td>0</td>\n",
              "      <td>1</td>\n",
              "      <td>0.0</td>\n",
              "      <td>0</td>\n",
              "      <td>0.0</td>\n",
              "      <td>0.041667</td>\n",
              "      <td>0.0</td>\n",
              "      <td>0.0</td>\n",
              "      <td>1</td>\n",
              "      <td>0.0</td>\n",
              "      <td>0.0</td>\n",
              "      <td>0.0</td>\n",
              "      <td>0.0</td>\n",
              "      <td>0</td>\n",
              "      <td>0</td>\n",
              "      <td>0.0</td>\n",
              "      <td>0.0</td>\n",
              "      <td>0</td>\n",
              "      <td>0.0</td>\n",
              "      <td>0.0</td>\n",
              "      <td>1</td>\n",
              "      <td>0</td>\n",
              "      <td>0</td>\n",
              "    </tr>\n",
              "    <tr>\n",
              "      <th>408</th>\n",
              "      <td>0.000000</td>\n",
              "      <td>0.000000</td>\n",
              "      <td>0.000000</td>\n",
              "      <td>0.500</td>\n",
              "      <td>0.000000</td>\n",
              "      <td>0.000000</td>\n",
              "      <td>0.0</td>\n",
              "      <td>0.50</td>\n",
              "      <td>0.000</td>\n",
              "      <td>1.0</td>\n",
              "      <td>1.0</td>\n",
              "      <td>1</td>\n",
              "      <td>1.0</td>\n",
              "      <td>0.000000</td>\n",
              "      <td>1.0</td>\n",
              "      <td>1.0</td>\n",
              "      <td>1.0</td>\n",
              "      <td>1.0</td>\n",
              "      <td>1.0</td>\n",
              "      <td>1.0</td>\n",
              "      <td>1.0</td>\n",
              "      <td>0</td>\n",
              "      <td>0.000000</td>\n",
              "      <td>1.0</td>\n",
              "      <td>1.0</td>\n",
              "      <td>0.0</td>\n",
              "      <td>0.000000</td>\n",
              "      <td>1</td>\n",
              "      <td>0</td>\n",
              "      <td>1.0</td>\n",
              "      <td>0</td>\n",
              "      <td>1.0</td>\n",
              "      <td>0.000000</td>\n",
              "      <td>1.0</td>\n",
              "      <td>0.0</td>\n",
              "      <td>0</td>\n",
              "      <td>0.0</td>\n",
              "      <td>0.0</td>\n",
              "      <td>1.0</td>\n",
              "      <td>1.0</td>\n",
              "      <td>1</td>\n",
              "      <td>0</td>\n",
              "      <td>0.0</td>\n",
              "      <td>0.0</td>\n",
              "      <td>0</td>\n",
              "      <td>0.0</td>\n",
              "      <td>0.0</td>\n",
              "      <td>0</td>\n",
              "      <td>1</td>\n",
              "      <td>0</td>\n",
              "    </tr>\n",
              "    <tr>\n",
              "      <th>482</th>\n",
              "      <td>0.000000</td>\n",
              "      <td>0.000000</td>\n",
              "      <td>0.000000</td>\n",
              "      <td>0.625</td>\n",
              "      <td>0.000000</td>\n",
              "      <td>0.000000</td>\n",
              "      <td>0.0</td>\n",
              "      <td>0.50</td>\n",
              "      <td>0.000</td>\n",
              "      <td>1.0</td>\n",
              "      <td>1.0</td>\n",
              "      <td>1</td>\n",
              "      <td>1.0</td>\n",
              "      <td>0.000000</td>\n",
              "      <td>1.0</td>\n",
              "      <td>1.0</td>\n",
              "      <td>1.0</td>\n",
              "      <td>1.0</td>\n",
              "      <td>1.0</td>\n",
              "      <td>1.0</td>\n",
              "      <td>1.0</td>\n",
              "      <td>1</td>\n",
              "      <td>0.000000</td>\n",
              "      <td>0.0</td>\n",
              "      <td>1.0</td>\n",
              "      <td>1.0</td>\n",
              "      <td>0.000000</td>\n",
              "      <td>0</td>\n",
              "      <td>1</td>\n",
              "      <td>1.0</td>\n",
              "      <td>1</td>\n",
              "      <td>0.0</td>\n",
              "      <td>0.000000</td>\n",
              "      <td>1.0</td>\n",
              "      <td>1.0</td>\n",
              "      <td>0</td>\n",
              "      <td>0.0</td>\n",
              "      <td>1.0</td>\n",
              "      <td>0.0</td>\n",
              "      <td>1.0</td>\n",
              "      <td>0</td>\n",
              "      <td>0</td>\n",
              "      <td>0.0</td>\n",
              "      <td>1.0</td>\n",
              "      <td>0</td>\n",
              "      <td>0.0</td>\n",
              "      <td>0.0</td>\n",
              "      <td>0</td>\n",
              "      <td>1</td>\n",
              "      <td>0</td>\n",
              "    </tr>\n",
              "  </tbody>\n",
              "</table>\n",
              "</div>"
            ],
            "text/plain": [
              "     review_length  ...  RestaurantsPriceRange_3.0\n",
              "9         0.039815  ...                          0\n",
              "164       0.018076  ...                          0\n",
              "296       0.010560  ...                          0\n",
              "408       0.000000  ...                          0\n",
              "482       0.000000  ...                          0\n",
              "\n",
              "[5 rows x 50 columns]"
            ]
          },
          "metadata": {},
          "execution_count": 14
        }
      ]
    },
    {
      "cell_type": "code",
      "metadata": {
        "id": "XD6l5cAFzAtI"
      },
      "source": [
        "pass_test_data = test_scaled[test_scaled.pass_fail_flag == 0].iloc[:,1:].reset_index(drop=True)\n",
        "fail_test_data = test_scaled[test_scaled.pass_fail_flag == 1].iloc[:,1:].reset_index(drop=True)"
      ],
      "execution_count": 15,
      "outputs": []
    },
    {
      "cell_type": "code",
      "metadata": {
        "id": "yxXlSCGkPqbs",
        "colab": {
          "base_uri": "https://localhost:8080/"
        },
        "outputId": "2c343f93-2b08-48c8-a000-ae472f3adf25"
      },
      "source": [
        "pass_train_data.shape"
      ],
      "execution_count": 16,
      "outputs": [
        {
          "output_type": "execute_result",
          "data": {
            "text/plain": [
              "(4619, 50)"
            ]
          },
          "metadata": {},
          "execution_count": 16
        }
      ]
    },
    {
      "cell_type": "markdown",
      "metadata": {
        "id": "PqCA0-xKu758"
      },
      "source": [
        "## Building an AutoEncoder"
      ]
    },
    {
      "cell_type": "code",
      "metadata": {
        "id": "lWkq6bTHzT1E"
      },
      "source": [
        "model = tf.keras.Sequential()\n",
        "model.add(tf.keras.layers.Dense(25, activation='relu'))\n",
        "model.add(tf.keras.layers.Dense(12, activation='relu'))\n",
        "model.add(tf.keras.layers.Dense(6, activation='relu'))\n",
        "model.add(tf.keras.layers.Dense(12, activation='relu'))\n",
        "model.add(tf.keras.layers.Dense(25, activation='relu'))\n",
        "model.add(tf.keras.layers.Dense(50, activation='sigmoid'))\n",
        "\n",
        "#https://www.youtube.com/watch?v=S31E-ftRfQI&list=PLbxRL2wtmn7rENj4iA3FC5VE4LNvIweqs&index=2"
      ],
      "execution_count": 17,
      "outputs": []
    },
    {
      "cell_type": "code",
      "metadata": {
        "id": "cECctgzCNGwq"
      },
      "source": [
        "class AutoEncoder(Model):\n",
        "  def __init__(self):\n",
        "    super(AutoEncoder, self).__init__()\n",
        "    self.encoder = tf.keras.Sequential([\n",
        "      tf.keras.layers.Dense(25,activation='relu'),\n",
        "      tf.keras.layers.Dense(12,activation='relu'),\n",
        "      tf.keras.layers.Dense(6,activation='relu')])\n",
        "    \n",
        "    self.decoder = tf.keras.Sequential([\n",
        "      tf.keras.layers.Dense(12,activation='relu'),\n",
        "      tf.keras.layers.Dense(25,activation='relu'),\n",
        "      tf.keras.layers.Dense(50,activation='sigmoid')])\n",
        "    \n",
        "  def call(self, x):\n",
        "    encoded = self.encoder(x)\n",
        "    decoded = self.decoder(encoded)\n",
        "    return decoded\n",
        "\n",
        "# https://www.youtube.com/watch?v=S31E-ftRfQI&list=PLbxRL2wtmn7rENj4iA3FC5VE4LNvIweqs&index=2"
      ],
      "execution_count": 18,
      "outputs": []
    },
    {
      "cell_type": "code",
      "metadata": {
        "id": "j08VPASEWata"
      },
      "source": [
        "model = AutoEncoder()\n",
        "early_stop = tf.keras.callbacks.EarlyStopping(monitor='val_loss', patience=2, mode='min')\n",
        "\n",
        "model.compile(optimizer='adam', loss='mean_squared_error')\n",
        "\n",
        "#https://www.datacamp.com/community/tutorials/autoencoder-keras-tutorial"
      ],
      "execution_count": 19,
      "outputs": []
    },
    {
      "cell_type": "code",
      "metadata": {
        "id": "z8lmcJDWc1ko",
        "colab": {
          "base_uri": "https://localhost:8080/"
        },
        "outputId": "99f78571-3041-4dc0-d2d8-2d8db661bb47"
      },
      "source": [
        "ae = model.fit(pass_train_data, pass_train_data,\n",
        "               epochs = 40,\n",
        "               batch_size = 20,\n",
        "               validation_data = (train_scaled.iloc[:,1:], train_scaled.iloc[:,1:]),\n",
        "               shuffle = True,\n",
        "               callbacks = [early_stop])"
      ],
      "execution_count": 20,
      "outputs": [
        {
          "output_type": "stream",
          "name": "stdout",
          "text": [
            "Epoch 1/40\n",
            "231/231 [==============================] - 2s 3ms/step - loss: 0.1432 - val_loss: 0.1094\n",
            "Epoch 2/40\n",
            "231/231 [==============================] - 0s 2ms/step - loss: 0.0999 - val_loss: 0.0933\n",
            "Epoch 3/40\n",
            "231/231 [==============================] - 1s 3ms/step - loss: 0.0880 - val_loss: 0.0825\n",
            "Epoch 4/40\n",
            "231/231 [==============================] - 0s 2ms/step - loss: 0.0794 - val_loss: 0.0775\n",
            "Epoch 5/40\n",
            "231/231 [==============================] - 1s 3ms/step - loss: 0.0756 - val_loss: 0.0742\n",
            "Epoch 6/40\n",
            "231/231 [==============================] - 0s 2ms/step - loss: 0.0738 - val_loss: 0.0728\n",
            "Epoch 7/40\n",
            "231/231 [==============================] - 0s 2ms/step - loss: 0.0727 - val_loss: 0.0723\n",
            "Epoch 8/40\n",
            "231/231 [==============================] - 0s 2ms/step - loss: 0.0717 - val_loss: 0.0712\n",
            "Epoch 9/40\n",
            "231/231 [==============================] - 1s 3ms/step - loss: 0.0710 - val_loss: 0.0704\n",
            "Epoch 10/40\n",
            "231/231 [==============================] - 0s 2ms/step - loss: 0.0703 - val_loss: 0.0696\n",
            "Epoch 11/40\n",
            "231/231 [==============================] - 1s 3ms/step - loss: 0.0697 - val_loss: 0.0692\n",
            "Epoch 12/40\n",
            "231/231 [==============================] - 0s 2ms/step - loss: 0.0691 - val_loss: 0.0688\n",
            "Epoch 13/40\n",
            "231/231 [==============================] - 0s 2ms/step - loss: 0.0687 - val_loss: 0.0685\n",
            "Epoch 14/40\n",
            "231/231 [==============================] - 0s 2ms/step - loss: 0.0681 - val_loss: 0.0676\n",
            "Epoch 15/40\n",
            "231/231 [==============================] - 0s 2ms/step - loss: 0.0678 - val_loss: 0.0679\n",
            "Epoch 16/40\n",
            "231/231 [==============================] - 0s 2ms/step - loss: 0.0673 - val_loss: 0.0667\n",
            "Epoch 17/40\n",
            "231/231 [==============================] - 0s 2ms/step - loss: 0.0670 - val_loss: 0.0672\n",
            "Epoch 18/40\n",
            "231/231 [==============================] - 0s 2ms/step - loss: 0.0667 - val_loss: 0.0665\n",
            "Epoch 19/40\n",
            "231/231 [==============================] - 0s 2ms/step - loss: 0.0662 - val_loss: 0.0658\n",
            "Epoch 20/40\n",
            "231/231 [==============================] - 0s 2ms/step - loss: 0.0660 - val_loss: 0.0656\n",
            "Epoch 21/40\n",
            "231/231 [==============================] - 0s 2ms/step - loss: 0.0656 - val_loss: 0.0655\n",
            "Epoch 22/40\n",
            "231/231 [==============================] - 0s 2ms/step - loss: 0.0655 - val_loss: 0.0654\n",
            "Epoch 23/40\n",
            "231/231 [==============================] - 0s 2ms/step - loss: 0.0652 - val_loss: 0.0650\n",
            "Epoch 24/40\n",
            "231/231 [==============================] - 1s 3ms/step - loss: 0.0650 - val_loss: 0.0650\n",
            "Epoch 25/40\n",
            "231/231 [==============================] - 0s 2ms/step - loss: 0.0648 - val_loss: 0.0644\n",
            "Epoch 26/40\n",
            "231/231 [==============================] - 0s 2ms/step - loss: 0.0646 - val_loss: 0.0642\n",
            "Epoch 27/40\n",
            "231/231 [==============================] - 0s 2ms/step - loss: 0.0644 - val_loss: 0.0639\n",
            "Epoch 28/40\n",
            "231/231 [==============================] - 0s 2ms/step - loss: 0.0641 - val_loss: 0.0638\n",
            "Epoch 29/40\n",
            "231/231 [==============================] - 0s 2ms/step - loss: 0.0639 - val_loss: 0.0637\n",
            "Epoch 30/40\n",
            "231/231 [==============================] - 0s 2ms/step - loss: 0.0637 - val_loss: 0.0635\n",
            "Epoch 31/40\n",
            "231/231 [==============================] - 0s 2ms/step - loss: 0.0635 - val_loss: 0.0636\n",
            "Epoch 32/40\n",
            "231/231 [==============================] - 0s 2ms/step - loss: 0.0634 - val_loss: 0.0631\n",
            "Epoch 33/40\n",
            "231/231 [==============================] - 0s 2ms/step - loss: 0.0631 - val_loss: 0.0627\n",
            "Epoch 34/40\n",
            "231/231 [==============================] - 1s 3ms/step - loss: 0.0631 - val_loss: 0.0628\n",
            "Epoch 35/40\n",
            "231/231 [==============================] - 0s 2ms/step - loss: 0.0628 - val_loss: 0.0626\n",
            "Epoch 36/40\n",
            "231/231 [==============================] - 0s 2ms/step - loss: 0.0627 - val_loss: 0.0622\n",
            "Epoch 37/40\n",
            "231/231 [==============================] - 0s 2ms/step - loss: 0.0625 - val_loss: 0.0624\n",
            "Epoch 38/40\n",
            "231/231 [==============================] - 0s 2ms/step - loss: 0.0623 - val_loss: 0.0626\n"
          ]
        }
      ]
    },
    {
      "cell_type": "code",
      "metadata": {
        "id": "_DUZicEWimdv",
        "colab": {
          "base_uri": "https://localhost:8080/",
          "height": 237
        },
        "outputId": "9dda3e46-fa53-49f7-af40-5791fa4796f6"
      },
      "source": [
        "pass_test_data.head()"
      ],
      "execution_count": 21,
      "outputs": [
        {
          "output_type": "execute_result",
          "data": {
            "text/html": [
              "<div>\n",
              "<style scoped>\n",
              "    .dataframe tbody tr th:only-of-type {\n",
              "        vertical-align: middle;\n",
              "    }\n",
              "\n",
              "    .dataframe tbody tr th {\n",
              "        vertical-align: top;\n",
              "    }\n",
              "\n",
              "    .dataframe thead th {\n",
              "        text-align: right;\n",
              "    }\n",
              "</style>\n",
              "<table border=\"1\" class=\"dataframe\">\n",
              "  <thead>\n",
              "    <tr style=\"text-align: right;\">\n",
              "      <th></th>\n",
              "      <th>review_length</th>\n",
              "      <th>review_word_count</th>\n",
              "      <th>reviews_count</th>\n",
              "      <th>stars</th>\n",
              "      <th>useful_sum</th>\n",
              "      <th>stars_5.0_sum</th>\n",
              "      <th>cool_sum</th>\n",
              "      <th>RestaurantsPriceRange2</th>\n",
              "      <th>funny_sum</th>\n",
              "      <th>Restaurants</th>\n",
              "      <th>BusinessAcceptsCreditCards</th>\n",
              "      <th>Smoking_0</th>\n",
              "      <th>RestaurantsTakeOut</th>\n",
              "      <th>stars_4.0_sum</th>\n",
              "      <th>RestaurantsGoodForGroups</th>\n",
              "      <th>GoodForKids</th>\n",
              "      <th>BikeParking</th>\n",
              "      <th>lot</th>\n",
              "      <th>HasTV</th>\n",
              "      <th>RestaurantsDelivery</th>\n",
              "      <th>casual</th>\n",
              "      <th>NoiseLevel_u'average'</th>\n",
              "      <th>stars_1.0_sum</th>\n",
              "      <th>OutdoorSeating</th>\n",
              "      <th>lunch</th>\n",
              "      <th>Caters</th>\n",
              "      <th>stars_3.0_sum</th>\n",
              "      <th>RestaurantsAttire_'casual'</th>\n",
              "      <th>RestaurantsAttire_u'casual'</th>\n",
              "      <th>dinner</th>\n",
              "      <th>WiFi_u'free'</th>\n",
              "      <th>WheelchairAccessible</th>\n",
              "      <th>stars_2.0_sum</th>\n",
              "      <th>HappyHour</th>\n",
              "      <th>classy</th>\n",
              "      <th>Alcohol_u'none'</th>\n",
              "      <th>RestaurantsTableService</th>\n",
              "      <th>street</th>\n",
              "      <th>RestaurantsReservations</th>\n",
              "      <th>Bars</th>\n",
              "      <th>WiFi_u'no'</th>\n",
              "      <th>Alcohol_u'full_bar'</th>\n",
              "      <th>Mexican</th>\n",
              "      <th>Nightlife</th>\n",
              "      <th>NoiseLevel_0</th>\n",
              "      <th>DogsAllowed</th>\n",
              "      <th>Breakfast &amp; Brunch</th>\n",
              "      <th>RestaurantsPriceRange_1.0</th>\n",
              "      <th>RestaurantsPriceRange_2.0</th>\n",
              "      <th>RestaurantsPriceRange_3.0</th>\n",
              "    </tr>\n",
              "  </thead>\n",
              "  <tbody>\n",
              "    <tr>\n",
              "      <th>0</th>\n",
              "      <td>0.021689</td>\n",
              "      <td>0.020042</td>\n",
              "      <td>0.008065</td>\n",
              "      <td>0.571429</td>\n",
              "      <td>0.000000</td>\n",
              "      <td>0.005348</td>\n",
              "      <td>0.000000</td>\n",
              "      <td>0.25</td>\n",
              "      <td>0.000000</td>\n",
              "      <td>1.0</td>\n",
              "      <td>1.0</td>\n",
              "      <td>1</td>\n",
              "      <td>1.0</td>\n",
              "      <td>0.022222</td>\n",
              "      <td>1.0</td>\n",
              "      <td>1.0</td>\n",
              "      <td>1.0</td>\n",
              "      <td>1.0</td>\n",
              "      <td>0.0</td>\n",
              "      <td>0.0</td>\n",
              "      <td>1.0</td>\n",
              "      <td>1</td>\n",
              "      <td>0.000000</td>\n",
              "      <td>1.0</td>\n",
              "      <td>1.0</td>\n",
              "      <td>0.0</td>\n",
              "      <td>0.0</td>\n",
              "      <td>1</td>\n",
              "      <td>0</td>\n",
              "      <td>0.0</td>\n",
              "      <td>0</td>\n",
              "      <td>0.0</td>\n",
              "      <td>0.0</td>\n",
              "      <td>0.0</td>\n",
              "      <td>0.0</td>\n",
              "      <td>1</td>\n",
              "      <td>1.0</td>\n",
              "      <td>1.0</td>\n",
              "      <td>0.0</td>\n",
              "      <td>1.0</td>\n",
              "      <td>0</td>\n",
              "      <td>0</td>\n",
              "      <td>0.0</td>\n",
              "      <td>1.0</td>\n",
              "      <td>0</td>\n",
              "      <td>0.0</td>\n",
              "      <td>1.0</td>\n",
              "      <td>1</td>\n",
              "      <td>0</td>\n",
              "      <td>0</td>\n",
              "    </tr>\n",
              "    <tr>\n",
              "      <th>1</th>\n",
              "      <td>0.030766</td>\n",
              "      <td>0.029896</td>\n",
              "      <td>0.008065</td>\n",
              "      <td>0.428571</td>\n",
              "      <td>0.000000</td>\n",
              "      <td>0.000000</td>\n",
              "      <td>0.000000</td>\n",
              "      <td>0.25</td>\n",
              "      <td>0.000000</td>\n",
              "      <td>1.0</td>\n",
              "      <td>1.0</td>\n",
              "      <td>1</td>\n",
              "      <td>1.0</td>\n",
              "      <td>0.022222</td>\n",
              "      <td>0.0</td>\n",
              "      <td>0.0</td>\n",
              "      <td>1.0</td>\n",
              "      <td>1.0</td>\n",
              "      <td>0.0</td>\n",
              "      <td>1.0</td>\n",
              "      <td>0.0</td>\n",
              "      <td>0</td>\n",
              "      <td>0.035714</td>\n",
              "      <td>0.0</td>\n",
              "      <td>0.0</td>\n",
              "      <td>1.0</td>\n",
              "      <td>0.0</td>\n",
              "      <td>0</td>\n",
              "      <td>0</td>\n",
              "      <td>0.0</td>\n",
              "      <td>0</td>\n",
              "      <td>0.0</td>\n",
              "      <td>0.0</td>\n",
              "      <td>0.0</td>\n",
              "      <td>0.0</td>\n",
              "      <td>0</td>\n",
              "      <td>0.0</td>\n",
              "      <td>0.0</td>\n",
              "      <td>0.0</td>\n",
              "      <td>0.0</td>\n",
              "      <td>0</td>\n",
              "      <td>0</td>\n",
              "      <td>0.0</td>\n",
              "      <td>0.0</td>\n",
              "      <td>1</td>\n",
              "      <td>0.0</td>\n",
              "      <td>0.0</td>\n",
              "      <td>1</td>\n",
              "      <td>0</td>\n",
              "      <td>0</td>\n",
              "    </tr>\n",
              "    <tr>\n",
              "      <th>2</th>\n",
              "      <td>0.044780</td>\n",
              "      <td>0.041587</td>\n",
              "      <td>0.020161</td>\n",
              "      <td>0.714286</td>\n",
              "      <td>0.033898</td>\n",
              "      <td>0.021390</td>\n",
              "      <td>0.029557</td>\n",
              "      <td>0.50</td>\n",
              "      <td>0.034247</td>\n",
              "      <td>1.0</td>\n",
              "      <td>1.0</td>\n",
              "      <td>1</td>\n",
              "      <td>1.0</td>\n",
              "      <td>0.022222</td>\n",
              "      <td>1.0</td>\n",
              "      <td>1.0</td>\n",
              "      <td>1.0</td>\n",
              "      <td>1.0</td>\n",
              "      <td>1.0</td>\n",
              "      <td>0.0</td>\n",
              "      <td>1.0</td>\n",
              "      <td>1</td>\n",
              "      <td>0.000000</td>\n",
              "      <td>1.0</td>\n",
              "      <td>1.0</td>\n",
              "      <td>1.0</td>\n",
              "      <td>0.0</td>\n",
              "      <td>0</td>\n",
              "      <td>1</td>\n",
              "      <td>1.0</td>\n",
              "      <td>0</td>\n",
              "      <td>0.0</td>\n",
              "      <td>0.0</td>\n",
              "      <td>0.0</td>\n",
              "      <td>0.0</td>\n",
              "      <td>0</td>\n",
              "      <td>1.0</td>\n",
              "      <td>0.0</td>\n",
              "      <td>1.0</td>\n",
              "      <td>0.0</td>\n",
              "      <td>0</td>\n",
              "      <td>1</td>\n",
              "      <td>0.0</td>\n",
              "      <td>0.0</td>\n",
              "      <td>0</td>\n",
              "      <td>1.0</td>\n",
              "      <td>0.0</td>\n",
              "      <td>0</td>\n",
              "      <td>1</td>\n",
              "      <td>0</td>\n",
              "    </tr>\n",
              "    <tr>\n",
              "      <th>3</th>\n",
              "      <td>0.008249</td>\n",
              "      <td>0.007516</td>\n",
              "      <td>0.004032</td>\n",
              "      <td>0.571429</td>\n",
              "      <td>0.000000</td>\n",
              "      <td>0.005348</td>\n",
              "      <td>0.000000</td>\n",
              "      <td>0.25</td>\n",
              "      <td>0.000000</td>\n",
              "      <td>1.0</td>\n",
              "      <td>1.0</td>\n",
              "      <td>1</td>\n",
              "      <td>1.0</td>\n",
              "      <td>0.000000</td>\n",
              "      <td>1.0</td>\n",
              "      <td>1.0</td>\n",
              "      <td>1.0</td>\n",
              "      <td>1.0</td>\n",
              "      <td>1.0</td>\n",
              "      <td>0.0</td>\n",
              "      <td>1.0</td>\n",
              "      <td>1</td>\n",
              "      <td>0.000000</td>\n",
              "      <td>1.0</td>\n",
              "      <td>1.0</td>\n",
              "      <td>1.0</td>\n",
              "      <td>0.0</td>\n",
              "      <td>1</td>\n",
              "      <td>0</td>\n",
              "      <td>0.0</td>\n",
              "      <td>0</td>\n",
              "      <td>0.0</td>\n",
              "      <td>0.0</td>\n",
              "      <td>0.0</td>\n",
              "      <td>0.0</td>\n",
              "      <td>1</td>\n",
              "      <td>0.0</td>\n",
              "      <td>0.0</td>\n",
              "      <td>0.0</td>\n",
              "      <td>0.0</td>\n",
              "      <td>0</td>\n",
              "      <td>0</td>\n",
              "      <td>1.0</td>\n",
              "      <td>0.0</td>\n",
              "      <td>0</td>\n",
              "      <td>0.0</td>\n",
              "      <td>0.0</td>\n",
              "      <td>1</td>\n",
              "      <td>0</td>\n",
              "      <td>0</td>\n",
              "    </tr>\n",
              "    <tr>\n",
              "      <th>4</th>\n",
              "      <td>0.000000</td>\n",
              "      <td>0.000000</td>\n",
              "      <td>0.000000</td>\n",
              "      <td>0.428571</td>\n",
              "      <td>0.000000</td>\n",
              "      <td>0.000000</td>\n",
              "      <td>0.000000</td>\n",
              "      <td>0.25</td>\n",
              "      <td>0.000000</td>\n",
              "      <td>1.0</td>\n",
              "      <td>1.0</td>\n",
              "      <td>1</td>\n",
              "      <td>1.0</td>\n",
              "      <td>0.000000</td>\n",
              "      <td>1.0</td>\n",
              "      <td>1.0</td>\n",
              "      <td>1.0</td>\n",
              "      <td>1.0</td>\n",
              "      <td>1.0</td>\n",
              "      <td>1.0</td>\n",
              "      <td>0.0</td>\n",
              "      <td>0</td>\n",
              "      <td>0.000000</td>\n",
              "      <td>0.0</td>\n",
              "      <td>0.0</td>\n",
              "      <td>0.0</td>\n",
              "      <td>0.0</td>\n",
              "      <td>1</td>\n",
              "      <td>0</td>\n",
              "      <td>0.0</td>\n",
              "      <td>0</td>\n",
              "      <td>0.0</td>\n",
              "      <td>0.0</td>\n",
              "      <td>0.0</td>\n",
              "      <td>0.0</td>\n",
              "      <td>0</td>\n",
              "      <td>0.0</td>\n",
              "      <td>0.0</td>\n",
              "      <td>0.0</td>\n",
              "      <td>0.0</td>\n",
              "      <td>0</td>\n",
              "      <td>0</td>\n",
              "      <td>0.0</td>\n",
              "      <td>0.0</td>\n",
              "      <td>0</td>\n",
              "      <td>0.0</td>\n",
              "      <td>0.0</td>\n",
              "      <td>1</td>\n",
              "      <td>0</td>\n",
              "      <td>0</td>\n",
              "    </tr>\n",
              "  </tbody>\n",
              "</table>\n",
              "</div>"
            ],
            "text/plain": [
              "   review_length  ...  RestaurantsPriceRange_3.0\n",
              "0       0.021689  ...                          0\n",
              "1       0.030766  ...                          0\n",
              "2       0.044780  ...                          0\n",
              "3       0.008249  ...                          0\n",
              "4       0.000000  ...                          0\n",
              "\n",
              "[5 rows x 50 columns]"
            ]
          },
          "metadata": {},
          "execution_count": 21
        }
      ]
    },
    {
      "cell_type": "code",
      "metadata": {
        "id": "ThDeeSj6ka0V",
        "colab": {
          "base_uri": "https://localhost:8080/"
        },
        "outputId": "6b337a9a-3ef9-4647-851c-d840a17d8f5c"
      },
      "source": [
        "pass_test_data.dtypes"
      ],
      "execution_count": 22,
      "outputs": [
        {
          "output_type": "execute_result",
          "data": {
            "text/plain": [
              "review_length                  float64\n",
              "review_word_count              float64\n",
              "reviews_count                  float64\n",
              "stars                          float64\n",
              "useful_sum                     float64\n",
              "stars_5.0_sum                  float64\n",
              "cool_sum                       float64\n",
              "RestaurantsPriceRange2         float64\n",
              "funny_sum                      float64\n",
              "Restaurants                    float64\n",
              "BusinessAcceptsCreditCards     float64\n",
              "Smoking_0                        int64\n",
              "RestaurantsTakeOut             float64\n",
              "stars_4.0_sum                  float64\n",
              "RestaurantsGoodForGroups       float64\n",
              "GoodForKids                    float64\n",
              "BikeParking                    float64\n",
              "lot                            float64\n",
              "HasTV                          float64\n",
              "RestaurantsDelivery            float64\n",
              "casual                         float64\n",
              "NoiseLevel_u'average'            int64\n",
              "stars_1.0_sum                  float64\n",
              "OutdoorSeating                 float64\n",
              "lunch                          float64\n",
              "Caters                         float64\n",
              "stars_3.0_sum                  float64\n",
              "RestaurantsAttire_'casual'       int64\n",
              "RestaurantsAttire_u'casual'      int64\n",
              "dinner                         float64\n",
              "WiFi_u'free'                     int64\n",
              "WheelchairAccessible           float64\n",
              "stars_2.0_sum                  float64\n",
              "HappyHour                      float64\n",
              "classy                         float64\n",
              "Alcohol_u'none'                  int64\n",
              "RestaurantsTableService        float64\n",
              "street                         float64\n",
              "RestaurantsReservations        float64\n",
              "Bars                           float64\n",
              "WiFi_u'no'                       int64\n",
              "Alcohol_u'full_bar'              int64\n",
              "Mexican                        float64\n",
              "Nightlife                      float64\n",
              "NoiseLevel_0                     int64\n",
              "DogsAllowed                    float64\n",
              "Breakfast & Brunch             float64\n",
              "RestaurantsPriceRange_1.0        int64\n",
              "RestaurantsPriceRange_2.0        int64\n",
              "RestaurantsPriceRange_3.0        int64\n",
              "dtype: object"
            ]
          },
          "metadata": {},
          "execution_count": 22
        }
      ]
    },
    {
      "cell_type": "code",
      "metadata": {
        "id": "TcCf_ZBnlDFp"
      },
      "source": [
        "#pass_test_data[pass_test_data.isna().any(axis=1)]\n",
        "#pass_train_data.to_numpy()"
      ],
      "execution_count": 23,
      "outputs": []
    },
    {
      "cell_type": "code",
      "metadata": {
        "id": "IiJbZURVeOjR"
      },
      "source": [
        "encoder_out = model.encoder(pass_train_data.to_numpy())\n",
        "decoder_out = model.decoder(encoder_out)"
      ],
      "execution_count": 24,
      "outputs": []
    },
    {
      "cell_type": "code",
      "metadata": {
        "id": "oYlnesxRiW3V",
        "colab": {
          "base_uri": "https://localhost:8080/"
        },
        "outputId": "ba8356ca-9e1f-454f-8ce3-3bbe4222f55b"
      },
      "source": [
        "print(encoder_out.shape)\n",
        "print(decoder_out.shape)"
      ],
      "execution_count": 25,
      "outputs": [
        {
          "output_type": "stream",
          "name": "stdout",
          "text": [
            "(4619, 6)\n",
            "(4619, 50)\n"
          ]
        }
      ]
    },
    {
      "cell_type": "code",
      "metadata": {
        "id": "Z58bqPdcq9OK",
        "colab": {
          "base_uri": "https://localhost:8080/",
          "height": 282
        },
        "outputId": "f3076d3a-a3f9-4ab9-8290-35faa101a48e"
      },
      "source": [
        "plt.plot(pass_test_data.iloc[0],'b')\n",
        "plt.plot(decoder_out[0],'r')"
      ],
      "execution_count": 26,
      "outputs": [
        {
          "output_type": "execute_result",
          "data": {
            "text/plain": [
              "[<matplotlib.lines.Line2D at 0x7fcb32b1d950>]"
            ]
          },
          "metadata": {},
          "execution_count": 26
        },
        {
          "output_type": "display_data",
          "data": {
            "image/png": "[encoded data removed]",
            "text/plain": [
              "<Figure size 432x288 with 1 Axes>"
            ]
          },
          "metadata": {
            "needs_background": "light"
          }
        }
      ]
    },
    {
      "cell_type": "code",
      "metadata": {
        "id": "dSN8nktDq_UO"
      },
      "source": [
        "encoder_out = model.encoder(fail_train_data.to_numpy())\n",
        "decoder_out = model.decoder(encoder_out)"
      ],
      "execution_count": 27,
      "outputs": []
    },
    {
      "cell_type": "code",
      "metadata": {
        "id": "03-OFnePrqhL",
        "colab": {
          "base_uri": "https://localhost:8080/",
          "height": 282
        },
        "outputId": "bf283dde-d2b1-4359-a9ce-b79ce7328ab9"
      },
      "source": [
        "plt.plot(pass_test_data.iloc[0],'b')\n",
        "plt.plot(decoder_out[0],'r')"
      ],
      "execution_count": 28,
      "outputs": [
        {
          "output_type": "execute_result",
          "data": {
            "text/plain": [
              "[<matplotlib.lines.Line2D at 0x7fcb33fb2d50>]"
            ]
          },
          "metadata": {},
          "execution_count": 28
        },
        {
          "output_type": "display_data",
          "data": {
            "image/png": "[encoded data removed]",
            "text/plain": [
              "<Figure size 432x288 with 1 Axes>"
            ]
          },
          "metadata": {
            "needs_background": "light"
          }
        }
      ]
    },
    {
      "cell_type": "code",
      "metadata": {
        "id": "ruuRC6rxrs5m",
        "colab": {
          "base_uri": "https://localhost:8080/",
          "height": 445
        },
        "outputId": "0124d762-5fc3-48d1-f3e0-518723e23081"
      },
      "source": [
        "reconstruct = model.predict(pass_test_data)\n",
        "train_loss = tf.keras.losses.mean_squared_error(reconstruct, pass_test_data)\n",
        "\n",
        "plt.hist(train_loss, bins=30)"
      ],
      "execution_count": 29,
      "outputs": [
        {
          "output_type": "execute_result",
          "data": {
            "text/plain": [
              "(array([  5.,  32.,  45.,  81.,  56., 110.,  99., 105.,  80.,  96.,  83.,\n",
              "         75.,  49.,  46.,  45.,  32.,  36.,  18.,  16.,  16.,  12.,   4.,\n",
              "          5.,   6.,   1.,   2.,   1.,   0.,   0.,   1.]),\n",
              " array([0.00337243, 0.00982532, 0.01627821, 0.02273111, 0.029184  ,\n",
              "        0.0356369 , 0.04208979, 0.04854268, 0.05499558, 0.06144847,\n",
              "        0.06790137, 0.07435426, 0.08080715, 0.08726005, 0.09371294,\n",
              "        0.10016584, 0.10661873, 0.11307162, 0.11952452, 0.12597741,\n",
              "        0.13243031, 0.1388832 , 0.14533609, 0.15178899, 0.15824188,\n",
              "        0.16469478, 0.17114767, 0.17760056, 0.18405346, 0.19050635,\n",
              "        0.19695925]),\n",
              " <a list of 30 Patch objects>)"
            ]
          },
          "metadata": {},
          "execution_count": 29
        },
        {
          "output_type": "display_data",
          "data": {
            "image/png": "[encoded data removed]",
            "text/plain": [
              "<Figure size 432x288 with 1 Axes>"
            ]
          },
          "metadata": {
            "needs_background": "light"
          }
        }
      ]
    },
    {
      "cell_type": "code",
      "metadata": {
        "id": "8olq2VFgsXW2",
        "colab": {
          "base_uri": "https://localhost:8080/"
        },
        "outputId": "b54974bb-294b-4161-8082-93659312e19b"
      },
      "source": [
        "print(np.mean(train_loss))\n",
        "print(np.std(train_loss))\n"
      ],
      "execution_count": 30,
      "outputs": [
        {
          "output_type": "stream",
          "name": "stdout",
          "text": [
            "0.06296016974951373\n",
            "0.031237290980021738\n"
          ]
        }
      ]
    },
    {
      "cell_type": "code",
      "metadata": {
        "id": "dASjWxgmsu8c",
        "colab": {
          "base_uri": "https://localhost:8080/"
        },
        "outputId": "fcb4571a-a1c7-46fa-8457-c6ca1f5e0dfc"
      },
      "source": [
        "_2sigma_boundary = np.mean(train_loss) + 2*np.std(train_loss)\n",
        "_2sigma_boundary"
      ],
      "execution_count": 31,
      "outputs": [
        {
          "output_type": "execute_result",
          "data": {
            "text/plain": [
              "0.1254347517095572"
            ]
          },
          "metadata": {},
          "execution_count": 31
        }
      ]
    },
    {
      "cell_type": "code",
      "metadata": {
        "id": "Dl6EKsdPs_NK",
        "colab": {
          "base_uri": "https://localhost:8080/",
          "height": 429
        },
        "outputId": "1ef7e77a-0ade-43c8-e642-a3b27fc8d4b1"
      },
      "source": [
        "reconstruct_f = model.predict(fail_test_data)\n",
        "train_loss_f = tf.keras.losses.mean_squared_error(reconstruct_f, fail_test_data)\n",
        "\n",
        "plt.hist(train_loss_f, bins = 30)"
      ],
      "execution_count": 32,
      "outputs": [
        {
          "output_type": "execute_result",
          "data": {
            "text/plain": [
              "(array([1., 0., 0., 0., 0., 0., 1., 0., 0., 0., 1., 0., 0., 1., 0., 2., 0.,\n",
              "        0., 1., 0., 0., 0., 0., 0., 0., 0., 0., 0., 0., 1.]),\n",
              " array([0.04479208, 0.04777791, 0.05076373, 0.05374956, 0.05673539,\n",
              "        0.05972121, 0.06270704, 0.06569287, 0.0686787 , 0.07166452,\n",
              "        0.07465035, 0.07763618, 0.08062201, 0.08360783, 0.08659366,\n",
              "        0.08957949, 0.09256532, 0.09555114, 0.09853697, 0.1015228 ,\n",
              "        0.10450863, 0.10749445, 0.11048028, 0.11346611, 0.11645194,\n",
              "        0.11943776, 0.12242359, 0.12540942, 0.12839525, 0.13138107,\n",
              "        0.1343669 ]),\n",
              " <a list of 30 Patch objects>)"
            ]
          },
          "metadata": {},
          "execution_count": 32
        },
        {
          "output_type": "display_data",
          "data": {
            "image/png": "[encoded data removed]",
            "text/plain": [
              "<Figure size 432x288 with 1 Axes>"
            ]
          },
          "metadata": {
            "needs_background": "light"
          }
        }
      ]
    },
    {
      "cell_type": "code",
      "metadata": {
        "id": "Os6Yn3Entirv",
        "colab": {
          "base_uri": "https://localhost:8080/"
        },
        "outputId": "7d34300f-a3a7-4f85-bae5-1e771761e783"
      },
      "source": [
        "print(np.mean(train_loss_f))\n",
        "print(np.std(train_loss_f))"
      ],
      "execution_count": 33,
      "outputs": [
        {
          "output_type": "stream",
          "name": "stdout",
          "text": [
            "0.08567943759492923\n",
            "0.024364550147084916\n"
          ]
        }
      ]
    },
    {
      "cell_type": "code",
      "metadata": {
        "id": "MyE24vvjt_5f",
        "colab": {
          "base_uri": "https://localhost:8080/",
          "height": 264
        },
        "outputId": "3e4cc9c8-e9b0-4785-e454-338a927b3100"
      },
      "source": [
        "plt.hist(train_loss,bins=50, label = 'Pass')\n",
        "plt.hist(train_loss_f,bins=50, label = 'Fail')\n",
        "\n",
        "plt.axvline(_2sigma_boundary, color = 'r', linewidth =3, linestyle='dashed', label ='{:0.3f}'.format(_2sigma_boundary))\n",
        "\n",
        "plt.legend(loc='lower right')\n",
        "plt.show()"
      ],
      "execution_count": 34,
      "outputs": [
        {
          "output_type": "display_data",
          "data": {
            "image/png": "[encoded data removed]",
            "text/plain": [
              "<Figure size 432x288 with 1 Axes>"
            ]
          },
          "metadata": {
            "needs_background": "light"
          }
        }
      ]
    },
    {
      "cell_type": "code",
      "metadata": {
        "id": "YlavpYdsuQ3O"
      },
      "source": [
        "preds = tf.math.greater(train_loss_f, _2sigma_boundary)"
      ],
      "execution_count": 35,
      "outputs": []
    },
    {
      "cell_type": "code",
      "metadata": {
        "id": "5B7HCSMdxuJL",
        "colab": {
          "base_uri": "https://localhost:8080/"
        },
        "outputId": "e55dd54a-fe21-4513-d690-d4145867baa6"
      },
      "source": [
        "tf.math.count_nonzero(preds)"
      ],
      "execution_count": 36,
      "outputs": [
        {
          "output_type": "execute_result",
          "data": {
            "text/plain": [
              "<tf.Tensor: shape=(), dtype=int64, numpy=1>"
            ]
          },
          "metadata": {},
          "execution_count": 36
        }
      ]
    },
    {
      "cell_type": "code",
      "metadata": {
        "id": "53-2_5AEyE56",
        "colab": {
          "base_uri": "https://localhost:8080/"
        },
        "outputId": "7178f092-bf04-4910-d96a-2de96dde7f03"
      },
      "source": [
        "preds.shape"
      ],
      "execution_count": 37,
      "outputs": [
        {
          "output_type": "execute_result",
          "data": {
            "text/plain": [
              "TensorShape([8])"
            ]
          },
          "metadata": {},
          "execution_count": 37
        }
      ]
    },
    {
      "cell_type": "code",
      "metadata": {
        "id": "iuA4ZUigyKET"
      },
      "source": [
        ""
      ],
      "execution_count": 37,
      "outputs": []
    },
    {
      "cell_type": "markdown",
      "metadata": {
        "id": "PtbLNWMyuKh_"
      },
      "source": [
        "## Building an Isolation Forest"
      ]
    },
    {
      "cell_type": "code",
      "metadata": {
        "id": "_IMsdh4IuxDY"
      },
      "source": [
        "X_train = pd.read_csv('/content/austin_restaurant_inspections_X_train.csv')\n",
        "X_test = pd.read_csv('/content/austin_restaurant_inspections_X_test.csv')\n",
        "y_train = pd.read_csv('/content/austin_restaurant_inspections_y_train.csv')\n",
        "y_test = pd.read_csv('/content/austin_restaurant_inspections_y_test.csv')"
      ],
      "execution_count": 38,
      "outputs": []
    },
    {
      "cell_type": "code",
      "metadata": {
        "id": "Qf3-81IqFU8E",
        "colab": {
          "base_uri": "https://localhost:8080/",
          "height": 237
        },
        "outputId": "9abddcd8-add7-40a3-b8d2-2aa19eb809af"
      },
      "source": [
        "X_train.head()"
      ],
      "execution_count": 39,
      "outputs": [
        {
          "output_type": "execute_result",
          "data": {
            "text/html": [
              "<div>\n",
              "<style scoped>\n",
              "    .dataframe tbody tr th:only-of-type {\n",
              "        vertical-align: middle;\n",
              "    }\n",
              "\n",
              "    .dataframe tbody tr th {\n",
              "        vertical-align: top;\n",
              "    }\n",
              "\n",
              "    .dataframe thead th {\n",
              "        text-align: right;\n",
              "    }\n",
              "</style>\n",
              "<table border=\"1\" class=\"dataframe\">\n",
              "  <thead>\n",
              "    <tr style=\"text-align: right;\">\n",
              "      <th></th>\n",
              "      <th>Unnamed: 0</th>\n",
              "      <th>review_length</th>\n",
              "      <th>review_word_count</th>\n",
              "      <th>Score</th>\n",
              "      <th>oldest_score</th>\n",
              "      <th>newest_score</th>\n",
              "      <th>reviews_count</th>\n",
              "      <th>stars</th>\n",
              "      <th>useful_sum</th>\n",
              "      <th>stars_5.0_sum</th>\n",
              "      <th>cool_sum</th>\n",
              "      <th>RestaurantsPriceRange2</th>\n",
              "      <th>funny_sum</th>\n",
              "      <th>Restaurants</th>\n",
              "      <th>BusinessAcceptsCreditCards</th>\n",
              "      <th>Smoking_0</th>\n",
              "      <th>RestaurantsTakeOut</th>\n",
              "      <th>is_open</th>\n",
              "      <th>stars_4.0_sum</th>\n",
              "      <th>RestaurantsGoodForGroups</th>\n",
              "      <th>GoodForKids</th>\n",
              "      <th>BikeParking</th>\n",
              "      <th>lot</th>\n",
              "      <th>HasTV</th>\n",
              "      <th>RestaurantsDelivery</th>\n",
              "      <th>casual</th>\n",
              "      <th>NoiseLevel_u'average'</th>\n",
              "      <th>stars_1.0_sum</th>\n",
              "      <th>OutdoorSeating</th>\n",
              "      <th>lunch</th>\n",
              "      <th>Caters</th>\n",
              "      <th>Food</th>\n",
              "      <th>stars_3.0_sum</th>\n",
              "      <th>RestaurantsAttire_'casual'</th>\n",
              "      <th>RestaurantsAttire_u'casual'</th>\n",
              "      <th>dinner</th>\n",
              "      <th>WiFi_u'free'</th>\n",
              "      <th>WheelchairAccessible</th>\n",
              "      <th>stars_2.0_sum</th>\n",
              "      <th>HappyHour</th>\n",
              "      <th>classy</th>\n",
              "      <th>Alcohol_u'none'</th>\n",
              "      <th>RestaurantsTableService</th>\n",
              "      <th>street</th>\n",
              "      <th>RestaurantsReservations</th>\n",
              "      <th>Bars</th>\n",
              "      <th>WiFi_u'no'</th>\n",
              "      <th>Alcohol_u'full_bar'</th>\n",
              "      <th>Mexican</th>\n",
              "      <th>Nightlife</th>\n",
              "      <th>NoiseLevel_0</th>\n",
              "      <th>DogsAllowed</th>\n",
              "      <th>Breakfast &amp; Brunch</th>\n",
              "      <th>RestaurantsPriceRange_0.0</th>\n",
              "      <th>RestaurantsPriceRange_1.0</th>\n",
              "      <th>RestaurantsPriceRange_2.0</th>\n",
              "      <th>RestaurantsPriceRange_3.0</th>\n",
              "    </tr>\n",
              "  </thead>\n",
              "  <tbody>\n",
              "    <tr>\n",
              "      <th>0</th>\n",
              "      <td>4153</td>\n",
              "      <td>1669.0</td>\n",
              "      <td>327.0</td>\n",
              "      <td>97.0</td>\n",
              "      <td>91.0</td>\n",
              "      <td>74.0</td>\n",
              "      <td>2.0</td>\n",
              "      <td>2.5</td>\n",
              "      <td>1.0</td>\n",
              "      <td>0.0</td>\n",
              "      <td>0.0</td>\n",
              "      <td>2</td>\n",
              "      <td>0.0</td>\n",
              "      <td>1.0</td>\n",
              "      <td>1.0</td>\n",
              "      <td>1</td>\n",
              "      <td>1.0</td>\n",
              "      <td>1.0</td>\n",
              "      <td>0.0</td>\n",
              "      <td>1.0</td>\n",
              "      <td>1.0</td>\n",
              "      <td>1.0</td>\n",
              "      <td>1.0</td>\n",
              "      <td>1.0</td>\n",
              "      <td>1.0</td>\n",
              "      <td>1.0</td>\n",
              "      <td>1</td>\n",
              "      <td>1.0</td>\n",
              "      <td>0.0</td>\n",
              "      <td>1.0</td>\n",
              "      <td>0.0</td>\n",
              "      <td>1.0</td>\n",
              "      <td>1.0</td>\n",
              "      <td>1</td>\n",
              "      <td>0</td>\n",
              "      <td>0.0</td>\n",
              "      <td>0</td>\n",
              "      <td>0.0</td>\n",
              "      <td>0.0</td>\n",
              "      <td>0.0</td>\n",
              "      <td>0.0</td>\n",
              "      <td>1</td>\n",
              "      <td>1.0</td>\n",
              "      <td>0.0</td>\n",
              "      <td>0.0</td>\n",
              "      <td>0.0</td>\n",
              "      <td>0</td>\n",
              "      <td>0</td>\n",
              "      <td>0.0</td>\n",
              "      <td>0.0</td>\n",
              "      <td>0</td>\n",
              "      <td>0.0</td>\n",
              "      <td>1.0</td>\n",
              "      <td>0</td>\n",
              "      <td>0</td>\n",
              "      <td>1</td>\n",
              "      <td>0</td>\n",
              "    </tr>\n",
              "    <tr>\n",
              "      <th>1</th>\n",
              "      <td>2528</td>\n",
              "      <td>7474.5</td>\n",
              "      <td>1351.5</td>\n",
              "      <td>84.0</td>\n",
              "      <td>79.0</td>\n",
              "      <td>86.0</td>\n",
              "      <td>17.0</td>\n",
              "      <td>4.0</td>\n",
              "      <td>8.0</td>\n",
              "      <td>7.0</td>\n",
              "      <td>7.0</td>\n",
              "      <td>2</td>\n",
              "      <td>5.0</td>\n",
              "      <td>1.0</td>\n",
              "      <td>1.0</td>\n",
              "      <td>1</td>\n",
              "      <td>1.0</td>\n",
              "      <td>1.0</td>\n",
              "      <td>5.0</td>\n",
              "      <td>1.0</td>\n",
              "      <td>1.0</td>\n",
              "      <td>1.0</td>\n",
              "      <td>0.0</td>\n",
              "      <td>0.0</td>\n",
              "      <td>0.0</td>\n",
              "      <td>1.0</td>\n",
              "      <td>1</td>\n",
              "      <td>3.0</td>\n",
              "      <td>0.0</td>\n",
              "      <td>0.0</td>\n",
              "      <td>0.0</td>\n",
              "      <td>0.0</td>\n",
              "      <td>2.0</td>\n",
              "      <td>1</td>\n",
              "      <td>0</td>\n",
              "      <td>0.0</td>\n",
              "      <td>1</td>\n",
              "      <td>0.0</td>\n",
              "      <td>0.0</td>\n",
              "      <td>0.0</td>\n",
              "      <td>1.0</td>\n",
              "      <td>0</td>\n",
              "      <td>1.0</td>\n",
              "      <td>1.0</td>\n",
              "      <td>0.0</td>\n",
              "      <td>0.0</td>\n",
              "      <td>0</td>\n",
              "      <td>1</td>\n",
              "      <td>0.0</td>\n",
              "      <td>0.0</td>\n",
              "      <td>0</td>\n",
              "      <td>1.0</td>\n",
              "      <td>1.0</td>\n",
              "      <td>0</td>\n",
              "      <td>0</td>\n",
              "      <td>1</td>\n",
              "      <td>0</td>\n",
              "    </tr>\n",
              "    <tr>\n",
              "      <th>2</th>\n",
              "      <td>5064</td>\n",
              "      <td>0.0</td>\n",
              "      <td>0.0</td>\n",
              "      <td>93.0</td>\n",
              "      <td>94.0</td>\n",
              "      <td>93.0</td>\n",
              "      <td>0.0</td>\n",
              "      <td>3.0</td>\n",
              "      <td>0.0</td>\n",
              "      <td>0.0</td>\n",
              "      <td>0.0</td>\n",
              "      <td>2</td>\n",
              "      <td>0.0</td>\n",
              "      <td>1.0</td>\n",
              "      <td>1.0</td>\n",
              "      <td>0</td>\n",
              "      <td>0.0</td>\n",
              "      <td>1.0</td>\n",
              "      <td>0.0</td>\n",
              "      <td>1.0</td>\n",
              "      <td>0.0</td>\n",
              "      <td>1.0</td>\n",
              "      <td>0.0</td>\n",
              "      <td>1.0</td>\n",
              "      <td>0.0</td>\n",
              "      <td>0.0</td>\n",
              "      <td>0</td>\n",
              "      <td>0.0</td>\n",
              "      <td>0.0</td>\n",
              "      <td>0.0</td>\n",
              "      <td>0.0</td>\n",
              "      <td>0.0</td>\n",
              "      <td>0.0</td>\n",
              "      <td>0</td>\n",
              "      <td>0</td>\n",
              "      <td>0.0</td>\n",
              "      <td>1</td>\n",
              "      <td>1.0</td>\n",
              "      <td>0.0</td>\n",
              "      <td>1.0</td>\n",
              "      <td>0.0</td>\n",
              "      <td>0</td>\n",
              "      <td>0.0</td>\n",
              "      <td>1.0</td>\n",
              "      <td>0.0</td>\n",
              "      <td>1.0</td>\n",
              "      <td>0</td>\n",
              "      <td>1</td>\n",
              "      <td>0.0</td>\n",
              "      <td>1.0</td>\n",
              "      <td>0</td>\n",
              "      <td>1.0</td>\n",
              "      <td>0.0</td>\n",
              "      <td>0</td>\n",
              "      <td>0</td>\n",
              "      <td>1</td>\n",
              "      <td>0</td>\n",
              "    </tr>\n",
              "    <tr>\n",
              "      <th>3</th>\n",
              "      <td>4135</td>\n",
              "      <td>738.0</td>\n",
              "      <td>127.0</td>\n",
              "      <td>100.0</td>\n",
              "      <td>100.0</td>\n",
              "      <td>90.0</td>\n",
              "      <td>1.0</td>\n",
              "      <td>4.0</td>\n",
              "      <td>0.0</td>\n",
              "      <td>1.0</td>\n",
              "      <td>0.0</td>\n",
              "      <td>0</td>\n",
              "      <td>0.0</td>\n",
              "      <td>1.0</td>\n",
              "      <td>1.0</td>\n",
              "      <td>1</td>\n",
              "      <td>0.0</td>\n",
              "      <td>1.0</td>\n",
              "      <td>0.0</td>\n",
              "      <td>0.0</td>\n",
              "      <td>0.0</td>\n",
              "      <td>0.0</td>\n",
              "      <td>0.0</td>\n",
              "      <td>0.0</td>\n",
              "      <td>0.0</td>\n",
              "      <td>0.0</td>\n",
              "      <td>1</td>\n",
              "      <td>0.0</td>\n",
              "      <td>0.0</td>\n",
              "      <td>0.0</td>\n",
              "      <td>0.0</td>\n",
              "      <td>1.0</td>\n",
              "      <td>0.0</td>\n",
              "      <td>0</td>\n",
              "      <td>0</td>\n",
              "      <td>0.0</td>\n",
              "      <td>0</td>\n",
              "      <td>0.0</td>\n",
              "      <td>0.0</td>\n",
              "      <td>0.0</td>\n",
              "      <td>0.0</td>\n",
              "      <td>0</td>\n",
              "      <td>0.0</td>\n",
              "      <td>0.0</td>\n",
              "      <td>0.0</td>\n",
              "      <td>0.0</td>\n",
              "      <td>0</td>\n",
              "      <td>0</td>\n",
              "      <td>0.0</td>\n",
              "      <td>0.0</td>\n",
              "      <td>0</td>\n",
              "      <td>0.0</td>\n",
              "      <td>0.0</td>\n",
              "      <td>1</td>\n",
              "      <td>0</td>\n",
              "      <td>0</td>\n",
              "      <td>0</td>\n",
              "    </tr>\n",
              "    <tr>\n",
              "      <th>4</th>\n",
              "      <td>723</td>\n",
              "      <td>11055.5</td>\n",
              "      <td>2057.0</td>\n",
              "      <td>92.0</td>\n",
              "      <td>92.0</td>\n",
              "      <td>91.0</td>\n",
              "      <td>35.0</td>\n",
              "      <td>4.0</td>\n",
              "      <td>11.0</td>\n",
              "      <td>18.0</td>\n",
              "      <td>5.0</td>\n",
              "      <td>2</td>\n",
              "      <td>3.0</td>\n",
              "      <td>1.0</td>\n",
              "      <td>1.0</td>\n",
              "      <td>1</td>\n",
              "      <td>1.0</td>\n",
              "      <td>1.0</td>\n",
              "      <td>7.0</td>\n",
              "      <td>1.0</td>\n",
              "      <td>1.0</td>\n",
              "      <td>0.0</td>\n",
              "      <td>1.0</td>\n",
              "      <td>0.0</td>\n",
              "      <td>0.0</td>\n",
              "      <td>1.0</td>\n",
              "      <td>1</td>\n",
              "      <td>4.0</td>\n",
              "      <td>1.0</td>\n",
              "      <td>0.0</td>\n",
              "      <td>0.0</td>\n",
              "      <td>0.0</td>\n",
              "      <td>4.0</td>\n",
              "      <td>0</td>\n",
              "      <td>1</td>\n",
              "      <td>1.0</td>\n",
              "      <td>0</td>\n",
              "      <td>0.0</td>\n",
              "      <td>2.0</td>\n",
              "      <td>1.0</td>\n",
              "      <td>0.0</td>\n",
              "      <td>0</td>\n",
              "      <td>1.0</td>\n",
              "      <td>1.0</td>\n",
              "      <td>1.0</td>\n",
              "      <td>0.0</td>\n",
              "      <td>1</td>\n",
              "      <td>0</td>\n",
              "      <td>0.0</td>\n",
              "      <td>0.0</td>\n",
              "      <td>0</td>\n",
              "      <td>0.0</td>\n",
              "      <td>0.0</td>\n",
              "      <td>0</td>\n",
              "      <td>0</td>\n",
              "      <td>1</td>\n",
              "      <td>0</td>\n",
              "    </tr>\n",
              "  </tbody>\n",
              "</table>\n",
              "</div>"
            ],
            "text/plain": [
              "   Unnamed: 0  ...  RestaurantsPriceRange_3.0\n",
              "0        4153  ...                          0\n",
              "1        2528  ...                          0\n",
              "2        5064  ...                          0\n",
              "3        4135  ...                          0\n",
              "4         723  ...                          0\n",
              "\n",
              "[5 rows x 57 columns]"
            ]
          },
          "metadata": {},
          "execution_count": 39
        }
      ]
    },
    {
      "cell_type": "code",
      "metadata": {
        "id": "SE7vE6F_Gjrk"
      },
      "source": [
        "y_train.drop(columns=['Unnamed: 0'], inplace = True)\n",
        "X_train.drop(columns=['Unnamed: 0','Score','oldest_score','newest_score','is_open','RestaurantsPriceRange_0.0','Food'], inplace = True)\n",
        "y_test.drop(columns=['Unnamed: 0'], inplace = True)\n",
        "X_test.drop(columns=['Unnamed: 0','Score','oldest_score','newest_score','is_open','RestaurantsPriceRange_0.0','Food'], inplace = True)"
      ],
      "execution_count": 40,
      "outputs": []
    },
    {
      "cell_type": "code",
      "metadata": {
        "id": "MC8Me0-WuB35"
      },
      "source": [
        "# fitting on all training data\n",
        "\n",
        "from pylab import savefig\n",
        "from sklearn.ensemble import IsolationForest\n",
        "\n",
        "rseed = 9887\n",
        "\n",
        "iso = IsolationForest(max_samples=100,n_estimators=10, random_state=rseed)\n",
        "iso.fit(X_train)\n",
        "\n",
        "y_pred_train = iso.predict(X_train)\n",
        "y_pred_test = iso.predict(X_test)\n",
        "y_pred_outliers = iso.predict(fail_test_data)\n",
        "\n",
        "# https://scikit-learn.org/stable/auto_examples/ensemble/plot_isolation_forest.html#sphx-glr-auto-examples-ensemble-plot-isolation-forest-py"
      ],
      "execution_count": 41,
      "outputs": []
    },
    {
      "cell_type": "code",
      "metadata": {
        "id": "ZWbl5ZJMuB-i",
        "colab": {
          "base_uri": "https://localhost:8080/"
        },
        "outputId": "869c6552-d2fd-47d7-803d-92b5529a4029"
      },
      "source": [
        "print(\"Accuracy on passes, full train:\", list(y_pred_train).count(1)/y_pred_train.shape[0])\n",
        "print(\"Accuracy on passes, full test:\", list(y_pred_test).count(1)/y_pred_test.shape[0])\n",
        "\n",
        "print(\"Accuracy on fails, fail_test:\", list(y_pred_outliers).count(-1)/y_pred_outliers.shape[0])"
      ],
      "execution_count": 42,
      "outputs": [
        {
          "output_type": "stream",
          "name": "stdout",
          "text": [
            "Accuracy on passes, full train: 0.5338055376690277\n",
            "Accuracy on passes, full test: 0.5553648068669528\n",
            "Accuracy on fails, fail_test: 0.75\n"
          ]
        }
      ]
    },
    {
      "cell_type": "code",
      "metadata": {
        "id": "-XMqvHjzLgjQ",
        "colab": {
          "base_uri": "https://localhost:8080/",
          "height": 237
        },
        "outputId": "4621b2e1-b8c8-4faf-fbb6-de24ea9b902a"
      },
      "source": [
        "pass_test_data.head()"
      ],
      "execution_count": 43,
      "outputs": [
        {
          "output_type": "execute_result",
          "data": {
            "text/html": [
              "<div>\n",
              "<style scoped>\n",
              "    .dataframe tbody tr th:only-of-type {\n",
              "        vertical-align: middle;\n",
              "    }\n",
              "\n",
              "    .dataframe tbody tr th {\n",
              "        vertical-align: top;\n",
              "    }\n",
              "\n",
              "    .dataframe thead th {\n",
              "        text-align: right;\n",
              "    }\n",
              "</style>\n",
              "<table border=\"1\" class=\"dataframe\">\n",
              "  <thead>\n",
              "    <tr style=\"text-align: right;\">\n",
              "      <th></th>\n",
              "      <th>review_length</th>\n",
              "      <th>review_word_count</th>\n",
              "      <th>reviews_count</th>\n",
              "      <th>stars</th>\n",
              "      <th>useful_sum</th>\n",
              "      <th>stars_5.0_sum</th>\n",
              "      <th>cool_sum</th>\n",
              "      <th>RestaurantsPriceRange2</th>\n",
              "      <th>funny_sum</th>\n",
              "      <th>Restaurants</th>\n",
              "      <th>BusinessAcceptsCreditCards</th>\n",
              "      <th>Smoking_0</th>\n",
              "      <th>RestaurantsTakeOut</th>\n",
              "      <th>stars_4.0_sum</th>\n",
              "      <th>RestaurantsGoodForGroups</th>\n",
              "      <th>GoodForKids</th>\n",
              "      <th>BikeParking</th>\n",
              "      <th>lot</th>\n",
              "      <th>HasTV</th>\n",
              "      <th>RestaurantsDelivery</th>\n",
              "      <th>casual</th>\n",
              "      <th>NoiseLevel_u'average'</th>\n",
              "      <th>stars_1.0_sum</th>\n",
              "      <th>OutdoorSeating</th>\n",
              "      <th>lunch</th>\n",
              "      <th>Caters</th>\n",
              "      <th>stars_3.0_sum</th>\n",
              "      <th>RestaurantsAttire_'casual'</th>\n",
              "      <th>RestaurantsAttire_u'casual'</th>\n",
              "      <th>dinner</th>\n",
              "      <th>WiFi_u'free'</th>\n",
              "      <th>WheelchairAccessible</th>\n",
              "      <th>stars_2.0_sum</th>\n",
              "      <th>HappyHour</th>\n",
              "      <th>classy</th>\n",
              "      <th>Alcohol_u'none'</th>\n",
              "      <th>RestaurantsTableService</th>\n",
              "      <th>street</th>\n",
              "      <th>RestaurantsReservations</th>\n",
              "      <th>Bars</th>\n",
              "      <th>WiFi_u'no'</th>\n",
              "      <th>Alcohol_u'full_bar'</th>\n",
              "      <th>Mexican</th>\n",
              "      <th>Nightlife</th>\n",
              "      <th>NoiseLevel_0</th>\n",
              "      <th>DogsAllowed</th>\n",
              "      <th>Breakfast &amp; Brunch</th>\n",
              "      <th>RestaurantsPriceRange_1.0</th>\n",
              "      <th>RestaurantsPriceRange_2.0</th>\n",
              "      <th>RestaurantsPriceRange_3.0</th>\n",
              "    </tr>\n",
              "  </thead>\n",
              "  <tbody>\n",
              "    <tr>\n",
              "      <th>0</th>\n",
              "      <td>0.021689</td>\n",
              "      <td>0.020042</td>\n",
              "      <td>0.008065</td>\n",
              "      <td>0.571429</td>\n",
              "      <td>0.000000</td>\n",
              "      <td>0.005348</td>\n",
              "      <td>0.000000</td>\n",
              "      <td>0.25</td>\n",
              "      <td>0.000000</td>\n",
              "      <td>1.0</td>\n",
              "      <td>1.0</td>\n",
              "      <td>1</td>\n",
              "      <td>1.0</td>\n",
              "      <td>0.022222</td>\n",
              "      <td>1.0</td>\n",
              "      <td>1.0</td>\n",
              "      <td>1.0</td>\n",
              "      <td>1.0</td>\n",
              "      <td>0.0</td>\n",
              "      <td>0.0</td>\n",
              "      <td>1.0</td>\n",
              "      <td>1</td>\n",
              "      <td>0.000000</td>\n",
              "      <td>1.0</td>\n",
              "      <td>1.0</td>\n",
              "      <td>0.0</td>\n",
              "      <td>0.0</td>\n",
              "      <td>1</td>\n",
              "      <td>0</td>\n",
              "      <td>0.0</td>\n",
              "      <td>0</td>\n",
              "      <td>0.0</td>\n",
              "      <td>0.0</td>\n",
              "      <td>0.0</td>\n",
              "      <td>0.0</td>\n",
              "      <td>1</td>\n",
              "      <td>1.0</td>\n",
              "      <td>1.0</td>\n",
              "      <td>0.0</td>\n",
              "      <td>1.0</td>\n",
              "      <td>0</td>\n",
              "      <td>0</td>\n",
              "      <td>0.0</td>\n",
              "      <td>1.0</td>\n",
              "      <td>0</td>\n",
              "      <td>0.0</td>\n",
              "      <td>1.0</td>\n",
              "      <td>1</td>\n",
              "      <td>0</td>\n",
              "      <td>0</td>\n",
              "    </tr>\n",
              "    <tr>\n",
              "      <th>1</th>\n",
              "      <td>0.030766</td>\n",
              "      <td>0.029896</td>\n",
              "      <td>0.008065</td>\n",
              "      <td>0.428571</td>\n",
              "      <td>0.000000</td>\n",
              "      <td>0.000000</td>\n",
              "      <td>0.000000</td>\n",
              "      <td>0.25</td>\n",
              "      <td>0.000000</td>\n",
              "      <td>1.0</td>\n",
              "      <td>1.0</td>\n",
              "      <td>1</td>\n",
              "      <td>1.0</td>\n",
              "      <td>0.022222</td>\n",
              "      <td>0.0</td>\n",
              "      <td>0.0</td>\n",
              "      <td>1.0</td>\n",
              "      <td>1.0</td>\n",
              "      <td>0.0</td>\n",
              "      <td>1.0</td>\n",
              "      <td>0.0</td>\n",
              "      <td>0</td>\n",
              "      <td>0.035714</td>\n",
              "      <td>0.0</td>\n",
              "      <td>0.0</td>\n",
              "      <td>1.0</td>\n",
              "      <td>0.0</td>\n",
              "      <td>0</td>\n",
              "      <td>0</td>\n",
              "      <td>0.0</td>\n",
              "      <td>0</td>\n",
              "      <td>0.0</td>\n",
              "      <td>0.0</td>\n",
              "      <td>0.0</td>\n",
              "      <td>0.0</td>\n",
              "      <td>0</td>\n",
              "      <td>0.0</td>\n",
              "      <td>0.0</td>\n",
              "      <td>0.0</td>\n",
              "      <td>0.0</td>\n",
              "      <td>0</td>\n",
              "      <td>0</td>\n",
              "      <td>0.0</td>\n",
              "      <td>0.0</td>\n",
              "      <td>1</td>\n",
              "      <td>0.0</td>\n",
              "      <td>0.0</td>\n",
              "      <td>1</td>\n",
              "      <td>0</td>\n",
              "      <td>0</td>\n",
              "    </tr>\n",
              "    <tr>\n",
              "      <th>2</th>\n",
              "      <td>0.044780</td>\n",
              "      <td>0.041587</td>\n",
              "      <td>0.020161</td>\n",
              "      <td>0.714286</td>\n",
              "      <td>0.033898</td>\n",
              "      <td>0.021390</td>\n",
              "      <td>0.029557</td>\n",
              "      <td>0.50</td>\n",
              "      <td>0.034247</td>\n",
              "      <td>1.0</td>\n",
              "      <td>1.0</td>\n",
              "      <td>1</td>\n",
              "      <td>1.0</td>\n",
              "      <td>0.022222</td>\n",
              "      <td>1.0</td>\n",
              "      <td>1.0</td>\n",
              "      <td>1.0</td>\n",
              "      <td>1.0</td>\n",
              "      <td>1.0</td>\n",
              "      <td>0.0</td>\n",
              "      <td>1.0</td>\n",
              "      <td>1</td>\n",
              "      <td>0.000000</td>\n",
              "      <td>1.0</td>\n",
              "      <td>1.0</td>\n",
              "      <td>1.0</td>\n",
              "      <td>0.0</td>\n",
              "      <td>0</td>\n",
              "      <td>1</td>\n",
              "      <td>1.0</td>\n",
              "      <td>0</td>\n",
              "      <td>0.0</td>\n",
              "      <td>0.0</td>\n",
              "      <td>0.0</td>\n",
              "      <td>0.0</td>\n",
              "      <td>0</td>\n",
              "      <td>1.0</td>\n",
              "      <td>0.0</td>\n",
              "      <td>1.0</td>\n",
              "      <td>0.0</td>\n",
              "      <td>0</td>\n",
              "      <td>1</td>\n",
              "      <td>0.0</td>\n",
              "      <td>0.0</td>\n",
              "      <td>0</td>\n",
              "      <td>1.0</td>\n",
              "      <td>0.0</td>\n",
              "      <td>0</td>\n",
              "      <td>1</td>\n",
              "      <td>0</td>\n",
              "    </tr>\n",
              "    <tr>\n",
              "      <th>3</th>\n",
              "      <td>0.008249</td>\n",
              "      <td>0.007516</td>\n",
              "      <td>0.004032</td>\n",
              "      <td>0.571429</td>\n",
              "      <td>0.000000</td>\n",
              "      <td>0.005348</td>\n",
              "      <td>0.000000</td>\n",
              "      <td>0.25</td>\n",
              "      <td>0.000000</td>\n",
              "      <td>1.0</td>\n",
              "      <td>1.0</td>\n",
              "      <td>1</td>\n",
              "      <td>1.0</td>\n",
              "      <td>0.000000</td>\n",
              "      <td>1.0</td>\n",
              "      <td>1.0</td>\n",
              "      <td>1.0</td>\n",
              "      <td>1.0</td>\n",
              "      <td>1.0</td>\n",
              "      <td>0.0</td>\n",
              "      <td>1.0</td>\n",
              "      <td>1</td>\n",
              "      <td>0.000000</td>\n",
              "      <td>1.0</td>\n",
              "      <td>1.0</td>\n",
              "      <td>1.0</td>\n",
              "      <td>0.0</td>\n",
              "      <td>1</td>\n",
              "      <td>0</td>\n",
              "      <td>0.0</td>\n",
              "      <td>0</td>\n",
              "      <td>0.0</td>\n",
              "      <td>0.0</td>\n",
              "      <td>0.0</td>\n",
              "      <td>0.0</td>\n",
              "      <td>1</td>\n",
              "      <td>0.0</td>\n",
              "      <td>0.0</td>\n",
              "      <td>0.0</td>\n",
              "      <td>0.0</td>\n",
              "      <td>0</td>\n",
              "      <td>0</td>\n",
              "      <td>1.0</td>\n",
              "      <td>0.0</td>\n",
              "      <td>0</td>\n",
              "      <td>0.0</td>\n",
              "      <td>0.0</td>\n",
              "      <td>1</td>\n",
              "      <td>0</td>\n",
              "      <td>0</td>\n",
              "    </tr>\n",
              "    <tr>\n",
              "      <th>4</th>\n",
              "      <td>0.000000</td>\n",
              "      <td>0.000000</td>\n",
              "      <td>0.000000</td>\n",
              "      <td>0.428571</td>\n",
              "      <td>0.000000</td>\n",
              "      <td>0.000000</td>\n",
              "      <td>0.000000</td>\n",
              "      <td>0.25</td>\n",
              "      <td>0.000000</td>\n",
              "      <td>1.0</td>\n",
              "      <td>1.0</td>\n",
              "      <td>1</td>\n",
              "      <td>1.0</td>\n",
              "      <td>0.000000</td>\n",
              "      <td>1.0</td>\n",
              "      <td>1.0</td>\n",
              "      <td>1.0</td>\n",
              "      <td>1.0</td>\n",
              "      <td>1.0</td>\n",
              "      <td>1.0</td>\n",
              "      <td>0.0</td>\n",
              "      <td>0</td>\n",
              "      <td>0.000000</td>\n",
              "      <td>0.0</td>\n",
              "      <td>0.0</td>\n",
              "      <td>0.0</td>\n",
              "      <td>0.0</td>\n",
              "      <td>1</td>\n",
              "      <td>0</td>\n",
              "      <td>0.0</td>\n",
              "      <td>0</td>\n",
              "      <td>0.0</td>\n",
              "      <td>0.0</td>\n",
              "      <td>0.0</td>\n",
              "      <td>0.0</td>\n",
              "      <td>0</td>\n",
              "      <td>0.0</td>\n",
              "      <td>0.0</td>\n",
              "      <td>0.0</td>\n",
              "      <td>0.0</td>\n",
              "      <td>0</td>\n",
              "      <td>0</td>\n",
              "      <td>0.0</td>\n",
              "      <td>0.0</td>\n",
              "      <td>0</td>\n",
              "      <td>0.0</td>\n",
              "      <td>0.0</td>\n",
              "      <td>1</td>\n",
              "      <td>0</td>\n",
              "      <td>0</td>\n",
              "    </tr>\n",
              "  </tbody>\n",
              "</table>\n",
              "</div>"
            ],
            "text/plain": [
              "   review_length  ...  RestaurantsPriceRange_3.0\n",
              "0       0.021689  ...                          0\n",
              "1       0.030766  ...                          0\n",
              "2       0.044780  ...                          0\n",
              "3       0.008249  ...                          0\n",
              "4       0.000000  ...                          0\n",
              "\n",
              "[5 rows x 50 columns]"
            ]
          },
          "metadata": {},
          "execution_count": 43
        }
      ]
    },
    {
      "cell_type": "code",
      "metadata": {
        "id": "Pn9yfCHlLgxa",
        "colab": {
          "base_uri": "https://localhost:8080/"
        },
        "outputId": "5b6168b9-5e5a-4a95-b3e3-024b071436f1"
      },
      "source": [
        "pass_train_y_val = test_scaled[train_scaled.pass_fail_flag == 0].iloc[:,0:1].reset_index(drop=True)\n",
        "fail_train_y_val = test_scaled[train_scaled.pass_fail_flag == 1].iloc[:,0:1].reset_index(drop=True)\n",
        "pass_test_y_val = test_scaled[test_scaled.pass_fail_flag == 0].iloc[:,0:1].reset_index(drop=True)\n",
        "fail_test_y_val = test_scaled[test_scaled.pass_fail_flag == 1].iloc[:,0:1].reset_index(drop=True)"
      ],
      "execution_count": 44,
      "outputs": [
        {
          "output_type": "stream",
          "name": "stderr",
          "text": [
            "/usr/local/lib/python3.7/dist-packages/ipykernel_launcher.py:1: UserWarning: Boolean Series key will be reindexed to match DataFrame index.\n",
            "  \"\"\"Entry point for launching an IPython kernel.\n",
            "/usr/local/lib/python3.7/dist-packages/ipykernel_launcher.py:2: UserWarning: Boolean Series key will be reindexed to match DataFrame index.\n",
            "  \n"
          ]
        }
      ]
    },
    {
      "cell_type": "code",
      "metadata": {
        "id": "jbekKSffLwfs",
        "colab": {
          "base_uri": "https://localhost:8080/",
          "height": 201
        },
        "outputId": "abffcfe4-2bee-4e35-cbb0-e7a3d75940fd"
      },
      "source": [
        "fail_test_y_val.head()"
      ],
      "execution_count": 45,
      "outputs": [
        {
          "output_type": "execute_result",
          "data": {
            "text/html": [
              "<div>\n",
              "<style scoped>\n",
              "    .dataframe tbody tr th:only-of-type {\n",
              "        vertical-align: middle;\n",
              "    }\n",
              "\n",
              "    .dataframe tbody tr th {\n",
              "        vertical-align: top;\n",
              "    }\n",
              "\n",
              "    .dataframe thead th {\n",
              "        text-align: right;\n",
              "    }\n",
              "</style>\n",
              "<table border=\"1\" class=\"dataframe\">\n",
              "  <thead>\n",
              "    <tr style=\"text-align: right;\">\n",
              "      <th></th>\n",
              "      <th>pass_fail_flag</th>\n",
              "    </tr>\n",
              "  </thead>\n",
              "  <tbody>\n",
              "    <tr>\n",
              "      <th>0</th>\n",
              "      <td>1</td>\n",
              "    </tr>\n",
              "    <tr>\n",
              "      <th>1</th>\n",
              "      <td>1</td>\n",
              "    </tr>\n",
              "    <tr>\n",
              "      <th>2</th>\n",
              "      <td>1</td>\n",
              "    </tr>\n",
              "    <tr>\n",
              "      <th>3</th>\n",
              "      <td>1</td>\n",
              "    </tr>\n",
              "    <tr>\n",
              "      <th>4</th>\n",
              "      <td>1</td>\n",
              "    </tr>\n",
              "  </tbody>\n",
              "</table>\n",
              "</div>"
            ],
            "text/plain": [
              "   pass_fail_flag\n",
              "0               1\n",
              "1               1\n",
              "2               1\n",
              "3               1\n",
              "4               1"
            ]
          },
          "metadata": {},
          "execution_count": 45
        }
      ]
    },
    {
      "cell_type": "code",
      "metadata": {
        "id": "mGQ1IaOeAXXE"
      },
      "source": [
        "# fitting on all 'passing' training data\n",
        "iso = IsolationForest(max_samples=100,n_estimators=20, random_state=rseed)\n",
        "iso.fit(pass_train_data)\n",
        "\n",
        "\n",
        "y_pred_train = iso.predict(pass_train_data)\n",
        "y_pred_test = iso.predict(pass_test_data)\n",
        "y_pred_outliers = iso.predict(fail_test_data)"
      ],
      "execution_count": 46,
      "outputs": []
    },
    {
      "cell_type": "code",
      "metadata": {
        "id": "Ssls3-rsDH2R",
        "colab": {
          "base_uri": "https://localhost:8080/"
        },
        "outputId": "f16f98ba-bccf-46c7-a444-8a152173ccb0"
      },
      "source": [
        "print(\"Accuracy on passes, pass_train:\", list(y_pred_train).count(1)/y_pred_train.shape[0])\n",
        "print(\"Accuracy on passes, pass_test:\", list(y_pred_test).count(1)/y_pred_test.shape[0])\n",
        "\n",
        "print(\"Accuracy on fails, fail_test:\", list(y_pred_outliers).count(-1)/y_pred_outliers.shape[0])"
      ],
      "execution_count": 47,
      "outputs": [
        {
          "output_type": "stream",
          "name": "stdout",
          "text": [
            "Accuracy on passes, pass_train: 0.4762935700368045\n",
            "Accuracy on passes, pass_test: 0.46672428694900603\n",
            "Accuracy on fails, fail_test: 0.875\n"
          ]
        }
      ]
    },
    {
      "cell_type": "code",
      "metadata": {
        "id": "Hfh_GzgyM3du",
        "colab": {
          "base_uri": "https://localhost:8080/"
        },
        "outputId": "e62f6191-815a-4939-f003-8b1c3d232013"
      },
      "source": [
        "print(y_pred_outliers)"
      ],
      "execution_count": 48,
      "outputs": [
        {
          "output_type": "stream",
          "name": "stdout",
          "text": [
            "[-1 -1 -1 -1 -1 -1 -1  1]\n"
          ]
        }
      ]
    },
    {
      "cell_type": "code",
      "metadata": {
        "id": "Hz9mfqsRFNCC"
      },
      "source": [
        "y = pd.concat([y_train,y_test]).reset_index(drop=True)\n",
        "y_pred = iso.predict(pd.concat([X_train,X_test]).reset_index(drop=True))"
      ],
      "execution_count": 49,
      "outputs": []
    },
    {
      "cell_type": "code",
      "metadata": {
        "id": "3ukRcM86Dx2e"
      },
      "source": [
        "# # plot the line, the samples, and the nearest vectors to the plane\n",
        "# xx, yy = np.meshgrid(np.linspace(-5, 5, 50), np.linspace(-5, 5, 50))\n",
        "# Z = iso.decision_function(np.c_[fail_test_y_val, y_pred_outliers])\n",
        "# Z = Z.reshape(xx.shape)\n",
        "\n",
        "# plt.title(\"IsolationForest\")\n",
        "# plt.contourf(xx, yy, Z, cmap=plt.cm.Blues_r)\n",
        "\n",
        "# b1 = plt.scatter(pass_train_data[:, 0], pass_train_data[:, 1], c='white',\n",
        "#                  s=20, edgecolor='k')\n",
        "# b2 = plt.scatter(pass_test_data[:, 0], pass_test_data[:, 1], c='green',\n",
        "#                  s=20, edgecolor='k')\n",
        "# c = plt.scatter(fail_test_data[:, 0], fail_test_data[:, 1], c='red',\n",
        "#                 s=20, edgecolor='k')\n",
        "# plt.axis('tight')\n",
        "# plt.xlim((-5, 5))\n",
        "# plt.ylim((-5, 5))\n",
        "# plt.legend([b1, b2, c],\n",
        "#            [\"training observations\",\n",
        "#             \"new regular observations\", \"new abnormal observations\"],\n",
        "#            loc=\"upper left\")\n",
        "# plt.show()"
      ],
      "execution_count": 50,
      "outputs": []
    },
    {
      "cell_type": "code",
      "metadata": {
        "id": "OrEF9kpYG93O",
        "colab": {
          "base_uri": "https://localhost:8080/",
          "height": 1000
        },
        "outputId": "ad0e1a15-b7fe-4aa0-d2c4-078454b2d794"
      },
      "source": [
        "!pip install shap\n",
        "import shap\n",
        "\n",
        "# Create shap values and plot them\n",
        "X_explain = X_test\n",
        "shap_values = shap.TreeExplainer(iso).shap_values(X_explain)\n",
        "shap.summary_plot(shap_values, X_explain)"
      ],
      "execution_count": 51,
      "outputs": [
        {
          "output_type": "stream",
          "name": "stdout",
          "text": [
            "Collecting shap\n",
            "  Downloading shap-0.39.0.tar.gz (356 kB)\n",
            "\u001b[?25l\r\u001b[K     |█                               | 10 kB 35.1 MB/s eta 0:00:01\r\u001b[K     |█▉                              | 20 kB 43.2 MB/s eta 0:00:01\r\u001b[K     |██▊                             | 30 kB 44.0 MB/s eta 0:00:01\r\u001b[K     |███▊                            | 40 kB 26.4 MB/s eta 0:00:01\r\u001b[K     |████▋                           | 51 kB 16.4 MB/s eta 0:00:01\r\u001b[K     |█████▌                          | 61 kB 17.6 MB/s eta 0:00:01\r\u001b[K     |██████▍                         | 71 kB 15.6 MB/s eta 0:00:01\r\u001b[K     |███████▍                        | 81 kB 17.3 MB/s eta 0:00:01\r\u001b[K     |████████▎                       | 92 kB 13.3 MB/s eta 0:00:01\r\u001b[K     |█████████▏                      | 102 kB 13.7 MB/s eta 0:00:01\r\u001b[K     |██████████▏                     | 112 kB 13.7 MB/s eta 0:00:01\r\u001b[K     |███████████                     | 122 kB 13.7 MB/s eta 0:00:01\r\u001b[K     |████████████                    | 133 kB 13.7 MB/s eta 0:00:01\r\u001b[K     |████████████▉                   | 143 kB 13.7 MB/s eta 0:00:01\r\u001b[K     |█████████████▉                  | 153 kB 13.7 MB/s eta 0:00:01\r\u001b[K     |██████████████▊                 | 163 kB 13.7 MB/s eta 0:00:01\r\u001b[K     |███████████████▋                | 174 kB 13.7 MB/s eta 0:00:01\r\u001b[K     |████████████████▋               | 184 kB 13.7 MB/s eta 0:00:01\r\u001b[K     |█████████████████▌              | 194 kB 13.7 MB/s eta 0:00:01\r\u001b[K     |██████████████████▍             | 204 kB 13.7 MB/s eta 0:00:01\r\u001b[K     |███████████████████▎            | 215 kB 13.7 MB/s eta 0:00:01\r\u001b[K     |████████████████████▎           | 225 kB 13.7 MB/s eta 0:00:01\r\u001b[K     |█████████████████████▏          | 235 kB 13.7 MB/s eta 0:00:01\r\u001b[K     |██████████████████████          | 245 kB 13.7 MB/s eta 0:00:01\r\u001b[K     |███████████████████████         | 256 kB 13.7 MB/s eta 0:00:01\r\u001b[K     |████████████████████████        | 266 kB 13.7 MB/s eta 0:00:01\r\u001b[K     |████████████████████████▉       | 276 kB 13.7 MB/s eta 0:00:01\r\u001b[K     |█████████████████████████▊      | 286 kB 13.7 MB/s eta 0:00:01\r\u001b[K     |██████████████████████████▊     | 296 kB 13.7 MB/s eta 0:00:01\r\u001b[K     |███████████████████████████▋    | 307 kB 13.7 MB/s eta 0:00:01\r\u001b[K     |████████████████████████████▌   | 317 kB 13.7 MB/s eta 0:00:01\r\u001b[K     |█████████████████████████████▍  | 327 kB 13.7 MB/s eta 0:00:01\r\u001b[K     |██████████████████████████████▍ | 337 kB 13.7 MB/s eta 0:00:01\r\u001b[K     |███████████████████████████████▎| 348 kB 13.7 MB/s eta 0:00:01\r\u001b[K     |████████████████████████████████| 356 kB 13.7 MB/s \n",
            "\u001b[?25hRequirement already satisfied: numpy in /usr/local/lib/python3.7/dist-packages (from shap) (1.19.5)\n",
            "Requirement already satisfied: scipy in /usr/local/lib/python3.7/dist-packages (from shap) (1.4.1)\n",
            "Requirement already satisfied: scikit-learn in /usr/local/lib/python3.7/dist-packages (from shap) (0.22.2.post1)\n",
            "Requirement already satisfied: pandas in /usr/local/lib/python3.7/dist-packages (from shap) (1.1.5)\n",
            "Requirement already satisfied: tqdm>4.25.0 in /usr/local/lib/python3.7/dist-packages (from shap) (4.62.3)\n",
            "Collecting slicer==0.0.7\n",
            "  Downloading slicer-0.0.7-py3-none-any.whl (14 kB)\n",
            "Requirement already satisfied: numba in /usr/local/lib/python3.7/dist-packages (from shap) (0.51.2)\n",
            "Requirement already satisfied: cloudpickle in /usr/local/lib/python3.7/dist-packages (from shap) (1.3.0)\n",
            "Requirement already satisfied: setuptools in /usr/local/lib/python3.7/dist-packages (from numba->shap) (57.4.0)\n",
            "Requirement already satisfied: llvmlite<0.35,>=0.34.0.dev0 in /usr/local/lib/python3.7/dist-packages (from numba->shap) (0.34.0)\n",
            "Requirement already satisfied: pytz>=2017.2 in /usr/local/lib/python3.7/dist-packages (from pandas->shap) (2018.9)\n",
            "Requirement already satisfied: python-dateutil>=2.7.3 in /usr/local/lib/python3.7/dist-packages (from pandas->shap) (2.8.2)\n",
            "Requirement already satisfied: six>=1.5 in /usr/local/lib/python3.7/dist-packages (from python-dateutil>=2.7.3->pandas->shap) (1.15.0)\n",
            "Requirement already satisfied: joblib>=0.11 in /usr/local/lib/python3.7/dist-packages (from scikit-learn->shap) (1.0.1)\n",
            "Building wheels for collected packages: shap\n",
            "  Building wheel for shap (setup.py) ... \u001b[?25l\u001b[?25hdone\n",
            "  Created wheel for shap: filename=shap-0.39.0-cp37-cp37m-linux_x86_64.whl size=491643 sha256=c7f842684e285abe21060d782dc6c1797cfdd8edf9d5d6908258798cf2326ba0\n",
            "  Stored in directory: /root/.cache/pip/wheels/ca/25/8f/6ae5df62c32651cd719e972e738a8aaa4a87414c4d2b14c9c0\n",
            "Successfully built shap\n",
            "Installing collected packages: slicer, shap\n",
            "Successfully installed shap-0.39.0 slicer-0.0.7\n"
          ]
        },
        {
          "output_type": "display_data",
          "data": {
            "image/png": "[encoded data removed]",
            "text/plain": [
              "<Figure size 576x684 with 2 Axes>"
            ]
          },
          "metadata": {
            "needs_background": "light"
          }
        }
      ]
    },
    {
      "cell_type": "code",
      "metadata": {
        "id": "SX7hR5WAK8wO",
        "colab": {
          "base_uri": "https://localhost:8080/",
          "height": 278
        },
        "outputId": "523342bc-f9ec-4e1c-c3ce-0486b1903ca3"
      },
      "source": [
        "from sklearn.metrics import roc_curve\n",
        "fpr, tpr, thresholds = roc_curve(y,y_pred)\n",
        "import matplotlib.pyplot as plt\n",
        "plt.plot(fpr, tpr, 'k-', lw=2)\n",
        "plt.xlabel('FPR')\n",
        "plt.ylabel('TPR')\n",
        "plt.show()"
      ],
      "execution_count": 53,
      "outputs": [
        {
          "output_type": "display_data",
          "data": {
            "image/png": "[encoded data removed]",
            "text/plain": [
              "<Figure size 432x288 with 1 Axes>"
            ]
          },
          "metadata": {
            "needs_background": "light"
          }
        }
      ]
    },
    {
      "cell_type": "code",
      "metadata": {
        "colab": {
          "base_uri": "https://localhost:8080/"
        },
        "id": "H3DU6ROjGM7b",
        "outputId": "9ed50574-09d7-4cb5-814d-326b3c1fb9f3"
      },
      "source": [
        "iso.decision_function(pd.concat([X_train,X_test]).reset_index(drop=True))"
      ],
      "execution_count": 54,
      "outputs": [
        {
          "output_type": "execute_result",
          "data": {
            "text/plain": [
              "array([-0.13041156, -0.16570883, -0.06434713, ..., -0.09015123,\n",
              "       -0.03715004, -0.04965052])"
            ]
          },
          "metadata": {},
          "execution_count": 54
        }
      ]
    },
    {
      "cell_type": "code",
      "metadata": {
        "colab": {
          "base_uri": "https://localhost:8080/"
        },
        "id": "C8AhTOPs2OMj",
        "outputId": "f488d938-55e9-457f-b485-0d03ef8bc304"
      },
      "source": [
        "iso.score_samples(pd.concat([X_train,X_test]).reset_index(drop=True))"
      ],
      "execution_count": 55,
      "outputs": [
        {
          "output_type": "execute_result",
          "data": {
            "text/plain": [
              "array([-0.63041156, -0.66570883, -0.56434713, ..., -0.59015123,\n",
              "       -0.53715004, -0.54965052])"
            ]
          },
          "metadata": {},
          "execution_count": 55
        }
      ]
    },
    {
      "cell_type": "code",
      "metadata": {
        "id": "tsAIPLJoGiPd"
      },
      "source": [
        "y['decision_func'] = iso.decision_function(pd.concat([X_train,X_test]).reset_index(drop=True)).tolist()\n",
        "y['score_samples'] = iso.decision_function(pd.concat([X_train,X_test]).reset_index(drop=True)).tolist()"
      ],
      "execution_count": 56,
      "outputs": []
    },
    {
      "cell_type": "code",
      "metadata": {
        "colab": {
          "base_uri": "https://localhost:8080/",
          "height": 201
        },
        "id": "7Ay7U-AqIs_b",
        "outputId": "884eaf0f-e760-4bd1-9643-6a2644a95027"
      },
      "source": [
        "y.head()"
      ],
      "execution_count": 58,
      "outputs": [
        {
          "output_type": "execute_result",
          "data": {
            "text/html": [
              "<div>\n",
              "<style scoped>\n",
              "    .dataframe tbody tr th:only-of-type {\n",
              "        vertical-align: middle;\n",
              "    }\n",
              "\n",
              "    .dataframe tbody tr th {\n",
              "        vertical-align: top;\n",
              "    }\n",
              "\n",
              "    .dataframe thead th {\n",
              "        text-align: right;\n",
              "    }\n",
              "</style>\n",
              "<table border=\"1\" class=\"dataframe\">\n",
              "  <thead>\n",
              "    <tr style=\"text-align: right;\">\n",
              "      <th></th>\n",
              "      <th>pass_fail_flag</th>\n",
              "      <th>decision_func</th>\n",
              "      <th>score_samples</th>\n",
              "    </tr>\n",
              "  </thead>\n",
              "  <tbody>\n",
              "    <tr>\n",
              "      <th>0</th>\n",
              "      <td>0</td>\n",
              "      <td>-0.130412</td>\n",
              "      <td>-0.130412</td>\n",
              "    </tr>\n",
              "    <tr>\n",
              "      <th>1</th>\n",
              "      <td>0</td>\n",
              "      <td>-0.165709</td>\n",
              "      <td>-0.165709</td>\n",
              "    </tr>\n",
              "    <tr>\n",
              "      <th>2</th>\n",
              "      <td>0</td>\n",
              "      <td>-0.064347</td>\n",
              "      <td>-0.064347</td>\n",
              "    </tr>\n",
              "    <tr>\n",
              "      <th>3</th>\n",
              "      <td>0</td>\n",
              "      <td>-0.065607</td>\n",
              "      <td>-0.065607</td>\n",
              "    </tr>\n",
              "    <tr>\n",
              "      <th>4</th>\n",
              "      <td>0</td>\n",
              "      <td>-0.161731</td>\n",
              "      <td>-0.161731</td>\n",
              "    </tr>\n",
              "  </tbody>\n",
              "</table>\n",
              "</div>"
            ],
            "text/plain": [
              "   pass_fail_flag  decision_func  score_samples\n",
              "0               0      -0.130412      -0.130412\n",
              "1               0      -0.165709      -0.165709\n",
              "2               0      -0.064347      -0.064347\n",
              "3               0      -0.065607      -0.065607\n",
              "4               0      -0.161731      -0.161731"
            ]
          },
          "metadata": {},
          "execution_count": 58
        }
      ]
    },
    {
      "cell_type": "code",
      "metadata": {
        "id": "a8HipENCI9gT"
      },
      "source": [
        "y.to_csv('iso_results')"
      ],
      "execution_count": 59,
      "outputs": []
    },
    {
      "cell_type": "code",
      "metadata": {
        "colab": {
          "base_uri": "https://localhost:8080/"
        },
        "id": "7QFRbdI1JMJ5",
        "outputId": "543639db-4cb1-4253-8acb-383d0ebd50a8"
      },
      "source": [
        "iso.get_params()"
      ],
      "execution_count": 60,
      "outputs": [
        {
          "output_type": "execute_result",
          "data": {
            "text/plain": [
              "{'behaviour': 'deprecated',\n",
              " 'bootstrap': False,\n",
              " 'contamination': 'auto',\n",
              " 'max_features': 1.0,\n",
              " 'max_samples': 100,\n",
              " 'n_estimators': 20,\n",
              " 'n_jobs': None,\n",
              " 'random_state': 9887,\n",
              " 'verbose': 0,\n",
              " 'warm_start': False}"
            ]
          },
          "metadata": {},
          "execution_count": 60
        }
      ]
    },
    {
      "cell_type": "code",
      "metadata": {
        "id": "AOFB_W4K5EZp"
      },
      "source": [
        "from sklearn.metrics import confusion_matrix\n",
        "\n",
        "cm = confusion_matrix(np.array(y['pass_fail_flag']), y_pred)"
      ],
      "execution_count": 68,
      "outputs": []
    },
    {
      "cell_type": "code",
      "metadata": {
        "id": "6K4ryyQT3qpb"
      },
      "source": [
        "#y_pred"
      ],
      "execution_count": 71,
      "outputs": []
    },
    {
      "cell_type": "code",
      "metadata": {
        "id": "Uob8snxX3czI"
      },
      "source": [
        "#np.array(y['pass_fail_flag'])"
      ],
      "execution_count": 72,
      "outputs": []
    },
    {
      "cell_type": "code",
      "metadata": {
        "id": "9rc5Yp0b31w1"
      },
      "source": [
        "#cm"
      ],
      "execution_count": 73,
      "outputs": []
    },
    {
      "cell_type": "code",
      "metadata": {
        "id": "2eDM4T3Y4PGB"
      },
      "source": [
        ""
      ],
      "execution_count": null,
      "outputs": []
    }
  ]
}